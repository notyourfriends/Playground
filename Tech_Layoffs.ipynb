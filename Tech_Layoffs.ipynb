{
  "nbformat": 4,
  "nbformat_minor": 0,
  "metadata": {
    "colab": {
      "provenance": [],
      "authorship_tag": "ABX9TyNWEHdjQ8cU9oK9NbXr1+3V",
      "include_colab_link": true
    },
    "kernelspec": {
      "name": "python3",
      "display_name": "Python 3"
    },
    "language_info": {
      "name": "python"
    }
  },
  "cells": [
    {
      "cell_type": "markdown",
      "metadata": {
        "id": "view-in-github",
        "colab_type": "text"
      },
      "source": [
        "<a href=\"https://colab.research.google.com/github/notyourfriends/Playground/blob/main/Tech_Layoffs.ipynb\" target=\"_parent\"><img src=\"https://colab.research.google.com/assets/colab-badge.svg\" alt=\"Open In Colab\"/></a>"
      ]
    },
    {
      "cell_type": "markdown",
      "source": [
        "# Load the data"
      ],
      "metadata": {
        "id": "XJCwaeJOABIL"
      }
    },
    {
      "cell_type": "code",
      "execution_count": 79,
      "metadata": {
        "colab": {
          "base_uri": "https://localhost:8080/"
        },
        "id": "V8tPmM1qeF_6",
        "outputId": "c3622445-3581-4e63-9485-c7dee087d381"
      },
      "outputs": [
        {
          "output_type": "stream",
          "name": "stdout",
          "text": [
            "Drive already mounted at /content/drive; to attempt to forcibly remount, call drive.mount(\"/content/drive\", force_remount=True).\n"
          ]
        }
      ],
      "source": [
        "from google.colab import drive\n",
        "drive.mount('/content/drive')"
      ]
    },
    {
      "cell_type": "code",
      "source": [
        "import pandas as pd"
      ],
      "metadata": {
        "id": "ygUCjvfae9WQ"
      },
      "execution_count": 80,
      "outputs": []
    },
    {
      "cell_type": "code",
      "source": [
        "data = pd.read_csv('/content/drive/MyDrive/CSVs/tech_layoffs.csv')"
      ],
      "metadata": {
        "id": "CTrwdQhte9Tw"
      },
      "execution_count": 81,
      "outputs": []
    },
    {
      "cell_type": "code",
      "source": [
        "data.columns"
      ],
      "metadata": {
        "colab": {
          "base_uri": "https://localhost:8080/"
        },
        "id": "BdzO5pCie9RF",
        "outputId": "92b1d6f4-57ce-4bf9-c88b-65cca4200fab"
      },
      "execution_count": 82,
      "outputs": [
        {
          "output_type": "execute_result",
          "data": {
            "text/plain": [
              "Index(['company', 'total_layoffs', 'impacted_workforce_percentage',\n",
              "       'reported_date', 'industry', 'headquarter_location', 'sources',\n",
              "       'status', 'additional_notes'],\n",
              "      dtype='object')"
            ]
          },
          "metadata": {},
          "execution_count": 82
        }
      ]
    },
    {
      "cell_type": "code",
      "source": [
        "data.head(5)"
      ],
      "metadata": {
        "colab": {
          "base_uri": "https://localhost:8080/",
          "height": 427
        },
        "id": "-pH-PNpee9OH",
        "outputId": "de128913-1f19-4b27-8d5f-3836357ed9c9"
      },
      "execution_count": 83,
      "outputs": [
        {
          "output_type": "execute_result",
          "data": {
            "text/plain": [
              "          company total_layoffs impacted_workforce_percentage reported_date  \\\n",
              "0            C2FO            20                             2     12/9/2022   \n",
              "1        VideoAmp       Unclear                             2     9/19/2022   \n",
              "2        Amperity            13                             3     8/20/2022   \n",
              "3         Addepar            20                             3     1/18/2023   \n",
              "4  Thirty Madison            24                             3     5/13/2022   \n",
              "\n",
              "                  industry headquarter_location                       sources  \\\n",
              "0        Fintech, payments          Leawood, KS  Kansas City Business Journal   \n",
              "1    Advertising platforms          Los Angeles                  Company memo   \n",
              "2          Saas, analytics              Seattle                      Geekwire   \n",
              "3  fintech, data analytics    Mountain View, CA                       Fortune   \n",
              "4              Health Care             New York                         Axios   \n",
              "\n",
              "    status                                   additional_notes  \n",
              "0  Private                                                NaN  \n",
              "1  Private                                                NaN  \n",
              "2  Private                                                NaN  \n",
              "3  Private                                                NaN  \n",
              "4  Private  Per Axios, 22 of the employees laid off were f...  "
            ],
            "text/html": [
              "\n",
              "  <div id=\"df-4d6eb223-6295-4f67-8895-ecb27afbb3a8\">\n",
              "    <div class=\"colab-df-container\">\n",
              "      <div>\n",
              "<style scoped>\n",
              "    .dataframe tbody tr th:only-of-type {\n",
              "        vertical-align: middle;\n",
              "    }\n",
              "\n",
              "    .dataframe tbody tr th {\n",
              "        vertical-align: top;\n",
              "    }\n",
              "\n",
              "    .dataframe thead th {\n",
              "        text-align: right;\n",
              "    }\n",
              "</style>\n",
              "<table border=\"1\" class=\"dataframe\">\n",
              "  <thead>\n",
              "    <tr style=\"text-align: right;\">\n",
              "      <th></th>\n",
              "      <th>company</th>\n",
              "      <th>total_layoffs</th>\n",
              "      <th>impacted_workforce_percentage</th>\n",
              "      <th>reported_date</th>\n",
              "      <th>industry</th>\n",
              "      <th>headquarter_location</th>\n",
              "      <th>sources</th>\n",
              "      <th>status</th>\n",
              "      <th>additional_notes</th>\n",
              "    </tr>\n",
              "  </thead>\n",
              "  <tbody>\n",
              "    <tr>\n",
              "      <th>0</th>\n",
              "      <td>C2FO</td>\n",
              "      <td>20</td>\n",
              "      <td>2</td>\n",
              "      <td>12/9/2022</td>\n",
              "      <td>Fintech, payments</td>\n",
              "      <td>Leawood, KS</td>\n",
              "      <td>Kansas City Business Journal</td>\n",
              "      <td>Private</td>\n",
              "      <td>NaN</td>\n",
              "    </tr>\n",
              "    <tr>\n",
              "      <th>1</th>\n",
              "      <td>VideoAmp</td>\n",
              "      <td>Unclear</td>\n",
              "      <td>2</td>\n",
              "      <td>9/19/2022</td>\n",
              "      <td>Advertising platforms</td>\n",
              "      <td>Los Angeles</td>\n",
              "      <td>Company memo</td>\n",
              "      <td>Private</td>\n",
              "      <td>NaN</td>\n",
              "    </tr>\n",
              "    <tr>\n",
              "      <th>2</th>\n",
              "      <td>Amperity</td>\n",
              "      <td>13</td>\n",
              "      <td>3</td>\n",
              "      <td>8/20/2022</td>\n",
              "      <td>Saas, analytics</td>\n",
              "      <td>Seattle</td>\n",
              "      <td>Geekwire</td>\n",
              "      <td>Private</td>\n",
              "      <td>NaN</td>\n",
              "    </tr>\n",
              "    <tr>\n",
              "      <th>3</th>\n",
              "      <td>Addepar</td>\n",
              "      <td>20</td>\n",
              "      <td>3</td>\n",
              "      <td>1/18/2023</td>\n",
              "      <td>fintech, data analytics</td>\n",
              "      <td>Mountain View, CA</td>\n",
              "      <td>Fortune</td>\n",
              "      <td>Private</td>\n",
              "      <td>NaN</td>\n",
              "    </tr>\n",
              "    <tr>\n",
              "      <th>4</th>\n",
              "      <td>Thirty Madison</td>\n",
              "      <td>24</td>\n",
              "      <td>3</td>\n",
              "      <td>5/13/2022</td>\n",
              "      <td>Health Care</td>\n",
              "      <td>New York</td>\n",
              "      <td>Axios</td>\n",
              "      <td>Private</td>\n",
              "      <td>Per Axios, 22 of the employees laid off were f...</td>\n",
              "    </tr>\n",
              "  </tbody>\n",
              "</table>\n",
              "</div>\n",
              "      <button class=\"colab-df-convert\" onclick=\"convertToInteractive('df-4d6eb223-6295-4f67-8895-ecb27afbb3a8')\"\n",
              "              title=\"Convert this dataframe to an interactive table.\"\n",
              "              style=\"display:none;\">\n",
              "        \n",
              "  <svg xmlns=\"http://www.w3.org/2000/svg\" height=\"24px\"viewBox=\"0 0 24 24\"\n",
              "       width=\"24px\">\n",
              "    <path d=\"M0 0h24v24H0V0z\" fill=\"none\"/>\n",
              "    <path d=\"M18.56 5.44l.94 2.06.94-2.06 2.06-.94-2.06-.94-.94-2.06-.94 2.06-2.06.94zm-11 1L8.5 8.5l.94-2.06 2.06-.94-2.06-.94L8.5 2.5l-.94 2.06-2.06.94zm10 10l.94 2.06.94-2.06 2.06-.94-2.06-.94-.94-2.06-.94 2.06-2.06.94z\"/><path d=\"M17.41 7.96l-1.37-1.37c-.4-.4-.92-.59-1.43-.59-.52 0-1.04.2-1.43.59L10.3 9.45l-7.72 7.72c-.78.78-.78 2.05 0 2.83L4 21.41c.39.39.9.59 1.41.59.51 0 1.02-.2 1.41-.59l7.78-7.78 2.81-2.81c.8-.78.8-2.07 0-2.86zM5.41 20L4 18.59l7.72-7.72 1.47 1.35L5.41 20z\"/>\n",
              "  </svg>\n",
              "      </button>\n",
              "      \n",
              "  <style>\n",
              "    .colab-df-container {\n",
              "      display:flex;\n",
              "      flex-wrap:wrap;\n",
              "      gap: 12px;\n",
              "    }\n",
              "\n",
              "    .colab-df-convert {\n",
              "      background-color: #E8F0FE;\n",
              "      border: none;\n",
              "      border-radius: 50%;\n",
              "      cursor: pointer;\n",
              "      display: none;\n",
              "      fill: #1967D2;\n",
              "      height: 32px;\n",
              "      padding: 0 0 0 0;\n",
              "      width: 32px;\n",
              "    }\n",
              "\n",
              "    .colab-df-convert:hover {\n",
              "      background-color: #E2EBFA;\n",
              "      box-shadow: 0px 1px 2px rgba(60, 64, 67, 0.3), 0px 1px 3px 1px rgba(60, 64, 67, 0.15);\n",
              "      fill: #174EA6;\n",
              "    }\n",
              "\n",
              "    [theme=dark] .colab-df-convert {\n",
              "      background-color: #3B4455;\n",
              "      fill: #D2E3FC;\n",
              "    }\n",
              "\n",
              "    [theme=dark] .colab-df-convert:hover {\n",
              "      background-color: #434B5C;\n",
              "      box-shadow: 0px 1px 3px 1px rgba(0, 0, 0, 0.15);\n",
              "      filter: drop-shadow(0px 1px 2px rgba(0, 0, 0, 0.3));\n",
              "      fill: #FFFFFF;\n",
              "    }\n",
              "  </style>\n",
              "\n",
              "      <script>\n",
              "        const buttonEl =\n",
              "          document.querySelector('#df-4d6eb223-6295-4f67-8895-ecb27afbb3a8 button.colab-df-convert');\n",
              "        buttonEl.style.display =\n",
              "          google.colab.kernel.accessAllowed ? 'block' : 'none';\n",
              "\n",
              "        async function convertToInteractive(key) {\n",
              "          const element = document.querySelector('#df-4d6eb223-6295-4f67-8895-ecb27afbb3a8');\n",
              "          const dataTable =\n",
              "            await google.colab.kernel.invokeFunction('convertToInteractive',\n",
              "                                                     [key], {});\n",
              "          if (!dataTable) return;\n",
              "\n",
              "          const docLinkHtml = 'Like what you see? Visit the ' +\n",
              "            '<a target=\"_blank\" href=https://colab.research.google.com/notebooks/data_table.ipynb>data table notebook</a>'\n",
              "            + ' to learn more about interactive tables.';\n",
              "          element.innerHTML = '';\n",
              "          dataTable['output_type'] = 'display_data';\n",
              "          await google.colab.output.renderOutput(dataTable, element);\n",
              "          const docLink = document.createElement('div');\n",
              "          docLink.innerHTML = docLinkHtml;\n",
              "          element.appendChild(docLink);\n",
              "        }\n",
              "      </script>\n",
              "    </div>\n",
              "  </div>\n",
              "  "
            ]
          },
          "metadata": {},
          "execution_count": 83
        }
      ]
    },
    {
      "cell_type": "markdown",
      "source": [],
      "metadata": {
        "id": "f6-3fv2fCNbA"
      }
    },
    {
      "cell_type": "markdown",
      "source": [
        "# Preprocess"
      ],
      "metadata": {
        "id": "QzFE5igkg_jX"
      }
    },
    {
      "cell_type": "code",
      "source": [
        "data.isnull().sum()"
      ],
      "metadata": {
        "colab": {
          "base_uri": "https://localhost:8080/"
        },
        "id": "Db3w9TvUe9Ig",
        "outputId": "76aa669d-724d-4ada-dfd1-3d6ba6e18a46"
      },
      "execution_count": 84,
      "outputs": [
        {
          "output_type": "execute_result",
          "data": {
            "text/plain": [
              "company                            0\n",
              "total_layoffs                      0\n",
              "impacted_workforce_percentage      0\n",
              "reported_date                      0\n",
              "industry                           0\n",
              "headquarter_location               0\n",
              "sources                            0\n",
              "status                             0\n",
              "additional_notes                 467\n",
              "dtype: int64"
            ]
          },
          "metadata": {},
          "execution_count": 84
        }
      ]
    },
    {
      "cell_type": "markdown",
      "source": [
        "ada sebanyak 467 data kosong di \"additional_notes\", drop aja ga penting juga wkwk"
      ],
      "metadata": {
        "id": "iBAYPoCohtgp"
      }
    },
    {
      "cell_type": "code",
      "source": [
        "data.drop('additional_notes', inplace=True, axis=1)"
      ],
      "metadata": {
        "id": "YqVV9wJfhmUP"
      },
      "execution_count": 85,
      "outputs": []
    },
    {
      "cell_type": "code",
      "source": [
        "data.head()"
      ],
      "metadata": {
        "id": "5q8MXnFyhsVx",
        "colab": {
          "base_uri": "https://localhost:8080/",
          "height": 409
        },
        "outputId": "a0e349c4-5bd2-4de6-c32b-565d0f7208a3"
      },
      "execution_count": 86,
      "outputs": [
        {
          "output_type": "execute_result",
          "data": {
            "text/plain": [
              "          company total_layoffs impacted_workforce_percentage reported_date  \\\n",
              "0            C2FO            20                             2     12/9/2022   \n",
              "1        VideoAmp       Unclear                             2     9/19/2022   \n",
              "2        Amperity            13                             3     8/20/2022   \n",
              "3         Addepar            20                             3     1/18/2023   \n",
              "4  Thirty Madison            24                             3     5/13/2022   \n",
              "\n",
              "                  industry headquarter_location                       sources  \\\n",
              "0        Fintech, payments          Leawood, KS  Kansas City Business Journal   \n",
              "1    Advertising platforms          Los Angeles                  Company memo   \n",
              "2          Saas, analytics              Seattle                      Geekwire   \n",
              "3  fintech, data analytics    Mountain View, CA                       Fortune   \n",
              "4              Health Care             New York                         Axios   \n",
              "\n",
              "    status  \n",
              "0  Private  \n",
              "1  Private  \n",
              "2  Private  \n",
              "3  Private  \n",
              "4  Private  "
            ],
            "text/html": [
              "\n",
              "  <div id=\"df-f5778702-2391-4285-b5b8-102904b859a6\">\n",
              "    <div class=\"colab-df-container\">\n",
              "      <div>\n",
              "<style scoped>\n",
              "    .dataframe tbody tr th:only-of-type {\n",
              "        vertical-align: middle;\n",
              "    }\n",
              "\n",
              "    .dataframe tbody tr th {\n",
              "        vertical-align: top;\n",
              "    }\n",
              "\n",
              "    .dataframe thead th {\n",
              "        text-align: right;\n",
              "    }\n",
              "</style>\n",
              "<table border=\"1\" class=\"dataframe\">\n",
              "  <thead>\n",
              "    <tr style=\"text-align: right;\">\n",
              "      <th></th>\n",
              "      <th>company</th>\n",
              "      <th>total_layoffs</th>\n",
              "      <th>impacted_workforce_percentage</th>\n",
              "      <th>reported_date</th>\n",
              "      <th>industry</th>\n",
              "      <th>headquarter_location</th>\n",
              "      <th>sources</th>\n",
              "      <th>status</th>\n",
              "    </tr>\n",
              "  </thead>\n",
              "  <tbody>\n",
              "    <tr>\n",
              "      <th>0</th>\n",
              "      <td>C2FO</td>\n",
              "      <td>20</td>\n",
              "      <td>2</td>\n",
              "      <td>12/9/2022</td>\n",
              "      <td>Fintech, payments</td>\n",
              "      <td>Leawood, KS</td>\n",
              "      <td>Kansas City Business Journal</td>\n",
              "      <td>Private</td>\n",
              "    </tr>\n",
              "    <tr>\n",
              "      <th>1</th>\n",
              "      <td>VideoAmp</td>\n",
              "      <td>Unclear</td>\n",
              "      <td>2</td>\n",
              "      <td>9/19/2022</td>\n",
              "      <td>Advertising platforms</td>\n",
              "      <td>Los Angeles</td>\n",
              "      <td>Company memo</td>\n",
              "      <td>Private</td>\n",
              "    </tr>\n",
              "    <tr>\n",
              "      <th>2</th>\n",
              "      <td>Amperity</td>\n",
              "      <td>13</td>\n",
              "      <td>3</td>\n",
              "      <td>8/20/2022</td>\n",
              "      <td>Saas, analytics</td>\n",
              "      <td>Seattle</td>\n",
              "      <td>Geekwire</td>\n",
              "      <td>Private</td>\n",
              "    </tr>\n",
              "    <tr>\n",
              "      <th>3</th>\n",
              "      <td>Addepar</td>\n",
              "      <td>20</td>\n",
              "      <td>3</td>\n",
              "      <td>1/18/2023</td>\n",
              "      <td>fintech, data analytics</td>\n",
              "      <td>Mountain View, CA</td>\n",
              "      <td>Fortune</td>\n",
              "      <td>Private</td>\n",
              "    </tr>\n",
              "    <tr>\n",
              "      <th>4</th>\n",
              "      <td>Thirty Madison</td>\n",
              "      <td>24</td>\n",
              "      <td>3</td>\n",
              "      <td>5/13/2022</td>\n",
              "      <td>Health Care</td>\n",
              "      <td>New York</td>\n",
              "      <td>Axios</td>\n",
              "      <td>Private</td>\n",
              "    </tr>\n",
              "  </tbody>\n",
              "</table>\n",
              "</div>\n",
              "      <button class=\"colab-df-convert\" onclick=\"convertToInteractive('df-f5778702-2391-4285-b5b8-102904b859a6')\"\n",
              "              title=\"Convert this dataframe to an interactive table.\"\n",
              "              style=\"display:none;\">\n",
              "        \n",
              "  <svg xmlns=\"http://www.w3.org/2000/svg\" height=\"24px\"viewBox=\"0 0 24 24\"\n",
              "       width=\"24px\">\n",
              "    <path d=\"M0 0h24v24H0V0z\" fill=\"none\"/>\n",
              "    <path d=\"M18.56 5.44l.94 2.06.94-2.06 2.06-.94-2.06-.94-.94-2.06-.94 2.06-2.06.94zm-11 1L8.5 8.5l.94-2.06 2.06-.94-2.06-.94L8.5 2.5l-.94 2.06-2.06.94zm10 10l.94 2.06.94-2.06 2.06-.94-2.06-.94-.94-2.06-.94 2.06-2.06.94z\"/><path d=\"M17.41 7.96l-1.37-1.37c-.4-.4-.92-.59-1.43-.59-.52 0-1.04.2-1.43.59L10.3 9.45l-7.72 7.72c-.78.78-.78 2.05 0 2.83L4 21.41c.39.39.9.59 1.41.59.51 0 1.02-.2 1.41-.59l7.78-7.78 2.81-2.81c.8-.78.8-2.07 0-2.86zM5.41 20L4 18.59l7.72-7.72 1.47 1.35L5.41 20z\"/>\n",
              "  </svg>\n",
              "      </button>\n",
              "      \n",
              "  <style>\n",
              "    .colab-df-container {\n",
              "      display:flex;\n",
              "      flex-wrap:wrap;\n",
              "      gap: 12px;\n",
              "    }\n",
              "\n",
              "    .colab-df-convert {\n",
              "      background-color: #E8F0FE;\n",
              "      border: none;\n",
              "      border-radius: 50%;\n",
              "      cursor: pointer;\n",
              "      display: none;\n",
              "      fill: #1967D2;\n",
              "      height: 32px;\n",
              "      padding: 0 0 0 0;\n",
              "      width: 32px;\n",
              "    }\n",
              "\n",
              "    .colab-df-convert:hover {\n",
              "      background-color: #E2EBFA;\n",
              "      box-shadow: 0px 1px 2px rgba(60, 64, 67, 0.3), 0px 1px 3px 1px rgba(60, 64, 67, 0.15);\n",
              "      fill: #174EA6;\n",
              "    }\n",
              "\n",
              "    [theme=dark] .colab-df-convert {\n",
              "      background-color: #3B4455;\n",
              "      fill: #D2E3FC;\n",
              "    }\n",
              "\n",
              "    [theme=dark] .colab-df-convert:hover {\n",
              "      background-color: #434B5C;\n",
              "      box-shadow: 0px 1px 3px 1px rgba(0, 0, 0, 0.15);\n",
              "      filter: drop-shadow(0px 1px 2px rgba(0, 0, 0, 0.3));\n",
              "      fill: #FFFFFF;\n",
              "    }\n",
              "  </style>\n",
              "\n",
              "      <script>\n",
              "        const buttonEl =\n",
              "          document.querySelector('#df-f5778702-2391-4285-b5b8-102904b859a6 button.colab-df-convert');\n",
              "        buttonEl.style.display =\n",
              "          google.colab.kernel.accessAllowed ? 'block' : 'none';\n",
              "\n",
              "        async function convertToInteractive(key) {\n",
              "          const element = document.querySelector('#df-f5778702-2391-4285-b5b8-102904b859a6');\n",
              "          const dataTable =\n",
              "            await google.colab.kernel.invokeFunction('convertToInteractive',\n",
              "                                                     [key], {});\n",
              "          if (!dataTable) return;\n",
              "\n",
              "          const docLinkHtml = 'Like what you see? Visit the ' +\n",
              "            '<a target=\"_blank\" href=https://colab.research.google.com/notebooks/data_table.ipynb>data table notebook</a>'\n",
              "            + ' to learn more about interactive tables.';\n",
              "          element.innerHTML = '';\n",
              "          dataTable['output_type'] = 'display_data';\n",
              "          await google.colab.output.renderOutput(dataTable, element);\n",
              "          const docLink = document.createElement('div');\n",
              "          docLink.innerHTML = docLinkHtml;\n",
              "          element.appendChild(docLink);\n",
              "        }\n",
              "      </script>\n",
              "    </div>\n",
              "  </div>\n",
              "  "
            ]
          },
          "metadata": {},
          "execution_count": 86
        }
      ]
    },
    {
      "cell_type": "code",
      "source": [
        "data.columns"
      ],
      "metadata": {
        "id": "3T28WsADiLu-",
        "outputId": "d09a5536-a610-4df4-a255-78fd9cee72e7",
        "colab": {
          "base_uri": "https://localhost:8080/"
        }
      },
      "execution_count": 87,
      "outputs": [
        {
          "output_type": "execute_result",
          "data": {
            "text/plain": [
              "Index(['company', 'total_layoffs', 'impacted_workforce_percentage',\n",
              "       'reported_date', 'industry', 'headquarter_location', 'sources',\n",
              "       'status'],\n",
              "      dtype='object')"
            ]
          },
          "metadata": {},
          "execution_count": 87
        }
      ]
    },
    {
      "cell_type": "code",
      "source": [],
      "metadata": {
        "id": "fcLGjAjR_IpM"
      },
      "execution_count": 87,
      "outputs": []
    },
    {
      "cell_type": "code",
      "source": [
        "dn = data['sources'].value_counts()\n",
        "dn"
      ],
      "metadata": {
        "colab": {
          "base_uri": "https://localhost:8080/"
        },
        "id": "nv_Xl1NT96_p",
        "outputId": "3c460edb-b300-423b-9446-a5ad72621548"
      },
      "execution_count": 88,
      "outputs": [
        {
          "output_type": "execute_result",
          "data": {
            "text/plain": [
              "TechCrunch          52\n",
              "The Information     23\n",
              "Business Insider    23\n",
              "Calcalistech        20\n",
              "LinkedIn            16\n",
              "                    ..\n",
              "CityWire             1\n",
              "OneTrust             1\n",
              "Mobi Health News     1\n",
              "Homeward             1\n",
              "Doma                 1\n",
              "Name: sources, Length: 221, dtype: int64"
            ]
          },
          "metadata": {},
          "execution_count": 88
        }
      ]
    },
    {
      "cell_type": "markdown",
      "source": [
        "based on sources, most of the data acquired from TechCrunch"
      ],
      "metadata": {
        "id": "i4ZVlucJ-m4Y"
      }
    },
    {
      "cell_type": "code",
      "source": [],
      "metadata": {
        "id": "P9_penfB_Imk"
      },
      "execution_count": 88,
      "outputs": []
    },
    {
      "cell_type": "code",
      "source": [
        "industry_counts = data.groupby('industry').size().reset_index(name='count').sort_values(by='count', ascending=False)\n",
        "industry_counts"
      ],
      "metadata": {
        "colab": {
          "base_uri": "https://localhost:8080/",
          "height": 424
        },
        "id": "Vipsx5w-_oZx",
        "outputId": "ed6af958-bf99-420d-ca76-cf21629818c7"
      },
      "execution_count": 89,
      "outputs": [
        {
          "output_type": "execute_result",
          "data": {
            "text/plain": [
              "               industry  count\n",
              "91              Fintech     24\n",
              "109         Health Care     17\n",
              "166            PropTech     15\n",
              "63           E-commerce     13\n",
              "52        Cybersecurity     10\n",
              "..                  ...    ...\n",
              "121  IT, future of work      1\n",
              "122        IT, software      1\n",
              "125  Insurance, fintech      1\n",
              "126           Insurtech      1\n",
              "288         video games      1\n",
              "\n",
              "[289 rows x 2 columns]"
            ],
            "text/html": [
              "\n",
              "  <div id=\"df-a8599a92-083e-4f9c-92c1-1df206688aec\">\n",
              "    <div class=\"colab-df-container\">\n",
              "      <div>\n",
              "<style scoped>\n",
              "    .dataframe tbody tr th:only-of-type {\n",
              "        vertical-align: middle;\n",
              "    }\n",
              "\n",
              "    .dataframe tbody tr th {\n",
              "        vertical-align: top;\n",
              "    }\n",
              "\n",
              "    .dataframe thead th {\n",
              "        text-align: right;\n",
              "    }\n",
              "</style>\n",
              "<table border=\"1\" class=\"dataframe\">\n",
              "  <thead>\n",
              "    <tr style=\"text-align: right;\">\n",
              "      <th></th>\n",
              "      <th>industry</th>\n",
              "      <th>count</th>\n",
              "    </tr>\n",
              "  </thead>\n",
              "  <tbody>\n",
              "    <tr>\n",
              "      <th>91</th>\n",
              "      <td>Fintech</td>\n",
              "      <td>24</td>\n",
              "    </tr>\n",
              "    <tr>\n",
              "      <th>109</th>\n",
              "      <td>Health Care</td>\n",
              "      <td>17</td>\n",
              "    </tr>\n",
              "    <tr>\n",
              "      <th>166</th>\n",
              "      <td>PropTech</td>\n",
              "      <td>15</td>\n",
              "    </tr>\n",
              "    <tr>\n",
              "      <th>63</th>\n",
              "      <td>E-commerce</td>\n",
              "      <td>13</td>\n",
              "    </tr>\n",
              "    <tr>\n",
              "      <th>52</th>\n",
              "      <td>Cybersecurity</td>\n",
              "      <td>10</td>\n",
              "    </tr>\n",
              "    <tr>\n",
              "      <th>...</th>\n",
              "      <td>...</td>\n",
              "      <td>...</td>\n",
              "    </tr>\n",
              "    <tr>\n",
              "      <th>121</th>\n",
              "      <td>IT, future of work</td>\n",
              "      <td>1</td>\n",
              "    </tr>\n",
              "    <tr>\n",
              "      <th>122</th>\n",
              "      <td>IT, software</td>\n",
              "      <td>1</td>\n",
              "    </tr>\n",
              "    <tr>\n",
              "      <th>125</th>\n",
              "      <td>Insurance, fintech</td>\n",
              "      <td>1</td>\n",
              "    </tr>\n",
              "    <tr>\n",
              "      <th>126</th>\n",
              "      <td>Insurtech</td>\n",
              "      <td>1</td>\n",
              "    </tr>\n",
              "    <tr>\n",
              "      <th>288</th>\n",
              "      <td>video games</td>\n",
              "      <td>1</td>\n",
              "    </tr>\n",
              "  </tbody>\n",
              "</table>\n",
              "<p>289 rows × 2 columns</p>\n",
              "</div>\n",
              "      <button class=\"colab-df-convert\" onclick=\"convertToInteractive('df-a8599a92-083e-4f9c-92c1-1df206688aec')\"\n",
              "              title=\"Convert this dataframe to an interactive table.\"\n",
              "              style=\"display:none;\">\n",
              "        \n",
              "  <svg xmlns=\"http://www.w3.org/2000/svg\" height=\"24px\"viewBox=\"0 0 24 24\"\n",
              "       width=\"24px\">\n",
              "    <path d=\"M0 0h24v24H0V0z\" fill=\"none\"/>\n",
              "    <path d=\"M18.56 5.44l.94 2.06.94-2.06 2.06-.94-2.06-.94-.94-2.06-.94 2.06-2.06.94zm-11 1L8.5 8.5l.94-2.06 2.06-.94-2.06-.94L8.5 2.5l-.94 2.06-2.06.94zm10 10l.94 2.06.94-2.06 2.06-.94-2.06-.94-.94-2.06-.94 2.06-2.06.94z\"/><path d=\"M17.41 7.96l-1.37-1.37c-.4-.4-.92-.59-1.43-.59-.52 0-1.04.2-1.43.59L10.3 9.45l-7.72 7.72c-.78.78-.78 2.05 0 2.83L4 21.41c.39.39.9.59 1.41.59.51 0 1.02-.2 1.41-.59l7.78-7.78 2.81-2.81c.8-.78.8-2.07 0-2.86zM5.41 20L4 18.59l7.72-7.72 1.47 1.35L5.41 20z\"/>\n",
              "  </svg>\n",
              "      </button>\n",
              "      \n",
              "  <style>\n",
              "    .colab-df-container {\n",
              "      display:flex;\n",
              "      flex-wrap:wrap;\n",
              "      gap: 12px;\n",
              "    }\n",
              "\n",
              "    .colab-df-convert {\n",
              "      background-color: #E8F0FE;\n",
              "      border: none;\n",
              "      border-radius: 50%;\n",
              "      cursor: pointer;\n",
              "      display: none;\n",
              "      fill: #1967D2;\n",
              "      height: 32px;\n",
              "      padding: 0 0 0 0;\n",
              "      width: 32px;\n",
              "    }\n",
              "\n",
              "    .colab-df-convert:hover {\n",
              "      background-color: #E2EBFA;\n",
              "      box-shadow: 0px 1px 2px rgba(60, 64, 67, 0.3), 0px 1px 3px 1px rgba(60, 64, 67, 0.15);\n",
              "      fill: #174EA6;\n",
              "    }\n",
              "\n",
              "    [theme=dark] .colab-df-convert {\n",
              "      background-color: #3B4455;\n",
              "      fill: #D2E3FC;\n",
              "    }\n",
              "\n",
              "    [theme=dark] .colab-df-convert:hover {\n",
              "      background-color: #434B5C;\n",
              "      box-shadow: 0px 1px 3px 1px rgba(0, 0, 0, 0.15);\n",
              "      filter: drop-shadow(0px 1px 2px rgba(0, 0, 0, 0.3));\n",
              "      fill: #FFFFFF;\n",
              "    }\n",
              "  </style>\n",
              "\n",
              "      <script>\n",
              "        const buttonEl =\n",
              "          document.querySelector('#df-a8599a92-083e-4f9c-92c1-1df206688aec button.colab-df-convert');\n",
              "        buttonEl.style.display =\n",
              "          google.colab.kernel.accessAllowed ? 'block' : 'none';\n",
              "\n",
              "        async function convertToInteractive(key) {\n",
              "          const element = document.querySelector('#df-a8599a92-083e-4f9c-92c1-1df206688aec');\n",
              "          const dataTable =\n",
              "            await google.colab.kernel.invokeFunction('convertToInteractive',\n",
              "                                                     [key], {});\n",
              "          if (!dataTable) return;\n",
              "\n",
              "          const docLinkHtml = 'Like what you see? Visit the ' +\n",
              "            '<a target=\"_blank\" href=https://colab.research.google.com/notebooks/data_table.ipynb>data table notebook</a>'\n",
              "            + ' to learn more about interactive tables.';\n",
              "          element.innerHTML = '';\n",
              "          dataTable['output_type'] = 'display_data';\n",
              "          await google.colab.output.renderOutput(dataTable, element);\n",
              "          const docLink = document.createElement('div');\n",
              "          docLink.innerHTML = docLinkHtml;\n",
              "          element.appendChild(docLink);\n",
              "        }\n",
              "      </script>\n",
              "    </div>\n",
              "  </div>\n",
              "  "
            ]
          },
          "metadata": {},
          "execution_count": 89
        }
      ]
    },
    {
      "cell_type": "markdown",
      "source": [
        "ternyata golongan paling banyak layoff ada di industri Fintech"
      ],
      "metadata": {
        "id": "xGNV4Bfn_29p"
      }
    },
    {
      "cell_type": "code",
      "source": [],
      "metadata": {
        "id": "0ratTdih_Ijy"
      },
      "execution_count": 89,
      "outputs": []
    },
    {
      "cell_type": "markdown",
      "source": [
        "berhubung namanya tidak seragam dan ada simbol, saatnya menyelaraskan nama tersebut"
      ],
      "metadata": {
        "id": "a0dDmaSBAHr4"
      }
    },
    {
      "cell_type": "code",
      "source": [
        "ind = []\n",
        "for i in data['industry'].to_list():\n",
        "    ind.append(i.split(' ')[-1])\n",
        "\n",
        "ind = [x.lower() for x in ind]\n",
        "ind = [x.replace(\"-\", \"\") for x in ind]\n",
        "\n",
        "data['industry'] = ind"
      ],
      "metadata": {
        "id": "VzorGs7d_2og"
      },
      "execution_count": 90,
      "outputs": []
    },
    {
      "cell_type": "code",
      "source": [
        "data['industry'].head(10)"
      ],
      "metadata": {
        "colab": {
          "base_uri": "https://localhost:8080/"
        },
        "id": "x_KSXEliB8qQ",
        "outputId": "8642639a-1c28-4d5a-e849-7afb260dc1f2"
      },
      "execution_count": 91,
      "outputs": [
        {
          "output_type": "execute_result",
          "data": {
            "text/plain": [
              "0         payments\n",
              "1        platforms\n",
              "2        analytics\n",
              "3        analytics\n",
              "4             care\n",
              "5             tech\n",
              "6    cybersecurity\n",
              "7        ecommerce\n",
              "8         wellness\n",
              "9             tech\n",
              "Name: industry, dtype: object"
            ]
          },
          "metadata": {},
          "execution_count": 91
        }
      ]
    },
    {
      "cell_type": "code",
      "source": [
        "industry_counts = data.groupby('industry').size().reset_index(name='count').sort_values(by='count', ascending=False)\n",
        "industry_counts"
      ],
      "metadata": {
        "colab": {
          "base_uri": "https://localhost:8080/",
          "height": 424
        },
        "id": "zmZCRyjACDwg",
        "outputId": "4adc0595-05a8-4d67-f163-655180663f04"
      },
      "execution_count": 92,
      "outputs": [
        {
          "output_type": "execute_result",
          "data": {
            "text/plain": [
              "       industry  count\n",
              "53      fintech     35\n",
              "107    software     32\n",
              "94     proptech     30\n",
              "40    ecommerce     29\n",
              "20         care     27\n",
              "..          ...    ...\n",
              "49       events      1\n",
              "46   esignature      1\n",
              "44       energy      1\n",
              "42      editing      1\n",
              "128        work      1\n",
              "\n",
              "[129 rows x 2 columns]"
            ],
            "text/html": [
              "\n",
              "  <div id=\"df-fdb43294-e295-4aa2-9bb5-8a730aa8e3e1\">\n",
              "    <div class=\"colab-df-container\">\n",
              "      <div>\n",
              "<style scoped>\n",
              "    .dataframe tbody tr th:only-of-type {\n",
              "        vertical-align: middle;\n",
              "    }\n",
              "\n",
              "    .dataframe tbody tr th {\n",
              "        vertical-align: top;\n",
              "    }\n",
              "\n",
              "    .dataframe thead th {\n",
              "        text-align: right;\n",
              "    }\n",
              "</style>\n",
              "<table border=\"1\" class=\"dataframe\">\n",
              "  <thead>\n",
              "    <tr style=\"text-align: right;\">\n",
              "      <th></th>\n",
              "      <th>industry</th>\n",
              "      <th>count</th>\n",
              "    </tr>\n",
              "  </thead>\n",
              "  <tbody>\n",
              "    <tr>\n",
              "      <th>53</th>\n",
              "      <td>fintech</td>\n",
              "      <td>35</td>\n",
              "    </tr>\n",
              "    <tr>\n",
              "      <th>107</th>\n",
              "      <td>software</td>\n",
              "      <td>32</td>\n",
              "    </tr>\n",
              "    <tr>\n",
              "      <th>94</th>\n",
              "      <td>proptech</td>\n",
              "      <td>30</td>\n",
              "    </tr>\n",
              "    <tr>\n",
              "      <th>40</th>\n",
              "      <td>ecommerce</td>\n",
              "      <td>29</td>\n",
              "    </tr>\n",
              "    <tr>\n",
              "      <th>20</th>\n",
              "      <td>care</td>\n",
              "      <td>27</td>\n",
              "    </tr>\n",
              "    <tr>\n",
              "      <th>...</th>\n",
              "      <td>...</td>\n",
              "      <td>...</td>\n",
              "    </tr>\n",
              "    <tr>\n",
              "      <th>49</th>\n",
              "      <td>events</td>\n",
              "      <td>1</td>\n",
              "    </tr>\n",
              "    <tr>\n",
              "      <th>46</th>\n",
              "      <td>esignature</td>\n",
              "      <td>1</td>\n",
              "    </tr>\n",
              "    <tr>\n",
              "      <th>44</th>\n",
              "      <td>energy</td>\n",
              "      <td>1</td>\n",
              "    </tr>\n",
              "    <tr>\n",
              "      <th>42</th>\n",
              "      <td>editing</td>\n",
              "      <td>1</td>\n",
              "    </tr>\n",
              "    <tr>\n",
              "      <th>128</th>\n",
              "      <td>work</td>\n",
              "      <td>1</td>\n",
              "    </tr>\n",
              "  </tbody>\n",
              "</table>\n",
              "<p>129 rows × 2 columns</p>\n",
              "</div>\n",
              "      <button class=\"colab-df-convert\" onclick=\"convertToInteractive('df-fdb43294-e295-4aa2-9bb5-8a730aa8e3e1')\"\n",
              "              title=\"Convert this dataframe to an interactive table.\"\n",
              "              style=\"display:none;\">\n",
              "        \n",
              "  <svg xmlns=\"http://www.w3.org/2000/svg\" height=\"24px\"viewBox=\"0 0 24 24\"\n",
              "       width=\"24px\">\n",
              "    <path d=\"M0 0h24v24H0V0z\" fill=\"none\"/>\n",
              "    <path d=\"M18.56 5.44l.94 2.06.94-2.06 2.06-.94-2.06-.94-.94-2.06-.94 2.06-2.06.94zm-11 1L8.5 8.5l.94-2.06 2.06-.94-2.06-.94L8.5 2.5l-.94 2.06-2.06.94zm10 10l.94 2.06.94-2.06 2.06-.94-2.06-.94-.94-2.06-.94 2.06-2.06.94z\"/><path d=\"M17.41 7.96l-1.37-1.37c-.4-.4-.92-.59-1.43-.59-.52 0-1.04.2-1.43.59L10.3 9.45l-7.72 7.72c-.78.78-.78 2.05 0 2.83L4 21.41c.39.39.9.59 1.41.59.51 0 1.02-.2 1.41-.59l7.78-7.78 2.81-2.81c.8-.78.8-2.07 0-2.86zM5.41 20L4 18.59l7.72-7.72 1.47 1.35L5.41 20z\"/>\n",
              "  </svg>\n",
              "      </button>\n",
              "      \n",
              "  <style>\n",
              "    .colab-df-container {\n",
              "      display:flex;\n",
              "      flex-wrap:wrap;\n",
              "      gap: 12px;\n",
              "    }\n",
              "\n",
              "    .colab-df-convert {\n",
              "      background-color: #E8F0FE;\n",
              "      border: none;\n",
              "      border-radius: 50%;\n",
              "      cursor: pointer;\n",
              "      display: none;\n",
              "      fill: #1967D2;\n",
              "      height: 32px;\n",
              "      padding: 0 0 0 0;\n",
              "      width: 32px;\n",
              "    }\n",
              "\n",
              "    .colab-df-convert:hover {\n",
              "      background-color: #E2EBFA;\n",
              "      box-shadow: 0px 1px 2px rgba(60, 64, 67, 0.3), 0px 1px 3px 1px rgba(60, 64, 67, 0.15);\n",
              "      fill: #174EA6;\n",
              "    }\n",
              "\n",
              "    [theme=dark] .colab-df-convert {\n",
              "      background-color: #3B4455;\n",
              "      fill: #D2E3FC;\n",
              "    }\n",
              "\n",
              "    [theme=dark] .colab-df-convert:hover {\n",
              "      background-color: #434B5C;\n",
              "      box-shadow: 0px 1px 3px 1px rgba(0, 0, 0, 0.15);\n",
              "      filter: drop-shadow(0px 1px 2px rgba(0, 0, 0, 0.3));\n",
              "      fill: #FFFFFF;\n",
              "    }\n",
              "  </style>\n",
              "\n",
              "      <script>\n",
              "        const buttonEl =\n",
              "          document.querySelector('#df-fdb43294-e295-4aa2-9bb5-8a730aa8e3e1 button.colab-df-convert');\n",
              "        buttonEl.style.display =\n",
              "          google.colab.kernel.accessAllowed ? 'block' : 'none';\n",
              "\n",
              "        async function convertToInteractive(key) {\n",
              "          const element = document.querySelector('#df-fdb43294-e295-4aa2-9bb5-8a730aa8e3e1');\n",
              "          const dataTable =\n",
              "            await google.colab.kernel.invokeFunction('convertToInteractive',\n",
              "                                                     [key], {});\n",
              "          if (!dataTable) return;\n",
              "\n",
              "          const docLinkHtml = 'Like what you see? Visit the ' +\n",
              "            '<a target=\"_blank\" href=https://colab.research.google.com/notebooks/data_table.ipynb>data table notebook</a>'\n",
              "            + ' to learn more about interactive tables.';\n",
              "          element.innerHTML = '';\n",
              "          dataTable['output_type'] = 'display_data';\n",
              "          await google.colab.output.renderOutput(dataTable, element);\n",
              "          const docLink = document.createElement('div');\n",
              "          docLink.innerHTML = docLinkHtml;\n",
              "          element.appendChild(docLink);\n",
              "        }\n",
              "      </script>\n",
              "    </div>\n",
              "  </div>\n",
              "  "
            ]
          },
          "metadata": {},
          "execution_count": 92
        }
      ]
    },
    {
      "cell_type": "code",
      "source": [],
      "metadata": {
        "id": "62bd6IQ0_Iha"
      },
      "execution_count": 92,
      "outputs": []
    },
    {
      "cell_type": "code",
      "source": [
        "data['industry'].head(10).to_list()"
      ],
      "metadata": {
        "colab": {
          "base_uri": "https://localhost:8080/"
        },
        "id": "NBOBVCplCPkQ",
        "outputId": "2ceb6b7c-a60b-4f29-8ede-e925d4a4baec"
      },
      "execution_count": 93,
      "outputs": [
        {
          "output_type": "execute_result",
          "data": {
            "text/plain": [
              "['payments',\n",
              " 'platforms',\n",
              " 'analytics',\n",
              " 'analytics',\n",
              " 'care',\n",
              " 'tech',\n",
              " 'cybersecurity',\n",
              " 'ecommerce',\n",
              " 'wellness',\n",
              " 'tech']"
            ]
          },
          "metadata": {},
          "execution_count": 93
        }
      ]
    },
    {
      "cell_type": "markdown",
      "source": [
        "lakukan hal yang sama pada kolom HQ"
      ],
      "metadata": {
        "id": "yvL2UpbFAcxz"
      }
    },
    {
      "cell_type": "code",
      "source": [
        "data['headquarter_location'].head()"
      ],
      "metadata": {
        "colab": {
          "base_uri": "https://localhost:8080/"
        },
        "id": "YGKgZl3YBXmy",
        "outputId": "591f9910-03a7-4ab0-b7a9-b05277b084b3"
      },
      "execution_count": 94,
      "outputs": [
        {
          "output_type": "execute_result",
          "data": {
            "text/plain": [
              "0          Leawood, KS\n",
              "1          Los Angeles\n",
              "2              Seattle\n",
              "3    Mountain View, CA\n",
              "4             New York\n",
              "Name: headquarter_location, dtype: object"
            ]
          },
          "metadata": {},
          "execution_count": 94
        }
      ]
    },
    {
      "cell_type": "code",
      "source": [
        "data['headquarter_location'] = data['headquarter_location'].str.lower().str.replace(\"-\", '').str.replace(\" \", '').str.split(',').str[-1]"
      ],
      "metadata": {
        "id": "keemohQFIbuq"
      },
      "execution_count": 96,
      "outputs": []
    },
    {
      "cell_type": "markdown",
      "source": [
        "jadi ini bisa juga digunakan dari pada sebelumnya yang harus ngasih array kosong dahulu."
      ],
      "metadata": {
        "id": "159Swe6EK-kp"
      }
    },
    {
      "cell_type": "code",
      "source": [
        "data['headquarter_location'].head()"
      ],
      "metadata": {
        "colab": {
          "base_uri": "https://localhost:8080/"
        },
        "id": "tx-71_3ZIt9p",
        "outputId": "0325b148-a618-48c0-9894-06fe4f478043"
      },
      "execution_count": 97,
      "outputs": [
        {
          "output_type": "execute_result",
          "data": {
            "text/plain": [
              "0            ks\n",
              "1    losangeles\n",
              "2       seattle\n",
              "3            ca\n",
              "4       newyork\n",
              "Name: headquarter_location, dtype: object"
            ]
          },
          "metadata": {},
          "execution_count": 97
        }
      ]
    },
    {
      "cell_type": "markdown",
      "source": [
        "semua data udah seragam sekarang"
      ],
      "metadata": {
        "id": "D6TS2581CVRg"
      }
    },
    {
      "cell_type": "code",
      "source": [
        "data.head(10)"
      ],
      "metadata": {
        "colab": {
          "base_uri": "https://localhost:8080/",
          "height": 566
        },
        "id": "jEozWVDl_Ieq",
        "outputId": "05bf1e03-5bfc-42a8-887e-c2ad1136b129"
      },
      "execution_count": 98,
      "outputs": [
        {
          "output_type": "execute_result",
          "data": {
            "text/plain": [
              "            company total_layoffs impacted_workforce_percentage reported_date  \\\n",
              "0              C2FO            20                             2     12/9/2022   \n",
              "1          VideoAmp       Unclear                             2     9/19/2022   \n",
              "2          Amperity            13                             3     8/20/2022   \n",
              "3           Addepar            20                             3     1/18/2023   \n",
              "4    Thirty Madison            24                             3     5/13/2022   \n",
              "5          NextRoll       Unclear                             3      7/8/2022   \n",
              "6    Armis Security            25                             4     12/8/2022   \n",
              "7           Foxtrot            26                             4     9/23/2022   \n",
              "8  Headspace Health            50                             4    12/14/2022   \n",
              "9          RealSelf            11                             5     7/21/2022   \n",
              "\n",
              "        industry headquarter_location                       sources   status  \n",
              "0       payments                   ks  Kansas City Business Journal  Private  \n",
              "1      platforms           losangeles                  Company memo  Private  \n",
              "2      analytics              seattle                      Geekwire  Private  \n",
              "3      analytics                   ca                       Fortune  Private  \n",
              "4           care              newyork                         Axios  Private  \n",
              "5           tech         sanfrancisco              Business Insider  Private  \n",
              "6  cybersecurity         sanfrancisco                  Calcalistech  Private  \n",
              "7      ecommerce              chicago              Chicago Business  Private  \n",
              "8       wellness           losangeles                     Bloomberg  Private  \n",
              "9           tech              seattle                      GeekWire  Private  "
            ],
            "text/html": [
              "\n",
              "  <div id=\"df-b8ab7cca-029c-4ae7-aeae-346bcaa61b85\">\n",
              "    <div class=\"colab-df-container\">\n",
              "      <div>\n",
              "<style scoped>\n",
              "    .dataframe tbody tr th:only-of-type {\n",
              "        vertical-align: middle;\n",
              "    }\n",
              "\n",
              "    .dataframe tbody tr th {\n",
              "        vertical-align: top;\n",
              "    }\n",
              "\n",
              "    .dataframe thead th {\n",
              "        text-align: right;\n",
              "    }\n",
              "</style>\n",
              "<table border=\"1\" class=\"dataframe\">\n",
              "  <thead>\n",
              "    <tr style=\"text-align: right;\">\n",
              "      <th></th>\n",
              "      <th>company</th>\n",
              "      <th>total_layoffs</th>\n",
              "      <th>impacted_workforce_percentage</th>\n",
              "      <th>reported_date</th>\n",
              "      <th>industry</th>\n",
              "      <th>headquarter_location</th>\n",
              "      <th>sources</th>\n",
              "      <th>status</th>\n",
              "    </tr>\n",
              "  </thead>\n",
              "  <tbody>\n",
              "    <tr>\n",
              "      <th>0</th>\n",
              "      <td>C2FO</td>\n",
              "      <td>20</td>\n",
              "      <td>2</td>\n",
              "      <td>12/9/2022</td>\n",
              "      <td>payments</td>\n",
              "      <td>ks</td>\n",
              "      <td>Kansas City Business Journal</td>\n",
              "      <td>Private</td>\n",
              "    </tr>\n",
              "    <tr>\n",
              "      <th>1</th>\n",
              "      <td>VideoAmp</td>\n",
              "      <td>Unclear</td>\n",
              "      <td>2</td>\n",
              "      <td>9/19/2022</td>\n",
              "      <td>platforms</td>\n",
              "      <td>losangeles</td>\n",
              "      <td>Company memo</td>\n",
              "      <td>Private</td>\n",
              "    </tr>\n",
              "    <tr>\n",
              "      <th>2</th>\n",
              "      <td>Amperity</td>\n",
              "      <td>13</td>\n",
              "      <td>3</td>\n",
              "      <td>8/20/2022</td>\n",
              "      <td>analytics</td>\n",
              "      <td>seattle</td>\n",
              "      <td>Geekwire</td>\n",
              "      <td>Private</td>\n",
              "    </tr>\n",
              "    <tr>\n",
              "      <th>3</th>\n",
              "      <td>Addepar</td>\n",
              "      <td>20</td>\n",
              "      <td>3</td>\n",
              "      <td>1/18/2023</td>\n",
              "      <td>analytics</td>\n",
              "      <td>ca</td>\n",
              "      <td>Fortune</td>\n",
              "      <td>Private</td>\n",
              "    </tr>\n",
              "    <tr>\n",
              "      <th>4</th>\n",
              "      <td>Thirty Madison</td>\n",
              "      <td>24</td>\n",
              "      <td>3</td>\n",
              "      <td>5/13/2022</td>\n",
              "      <td>care</td>\n",
              "      <td>newyork</td>\n",
              "      <td>Axios</td>\n",
              "      <td>Private</td>\n",
              "    </tr>\n",
              "    <tr>\n",
              "      <th>5</th>\n",
              "      <td>NextRoll</td>\n",
              "      <td>Unclear</td>\n",
              "      <td>3</td>\n",
              "      <td>7/8/2022</td>\n",
              "      <td>tech</td>\n",
              "      <td>sanfrancisco</td>\n",
              "      <td>Business Insider</td>\n",
              "      <td>Private</td>\n",
              "    </tr>\n",
              "    <tr>\n",
              "      <th>6</th>\n",
              "      <td>Armis Security</td>\n",
              "      <td>25</td>\n",
              "      <td>4</td>\n",
              "      <td>12/8/2022</td>\n",
              "      <td>cybersecurity</td>\n",
              "      <td>sanfrancisco</td>\n",
              "      <td>Calcalistech</td>\n",
              "      <td>Private</td>\n",
              "    </tr>\n",
              "    <tr>\n",
              "      <th>7</th>\n",
              "      <td>Foxtrot</td>\n",
              "      <td>26</td>\n",
              "      <td>4</td>\n",
              "      <td>9/23/2022</td>\n",
              "      <td>ecommerce</td>\n",
              "      <td>chicago</td>\n",
              "      <td>Chicago Business</td>\n",
              "      <td>Private</td>\n",
              "    </tr>\n",
              "    <tr>\n",
              "      <th>8</th>\n",
              "      <td>Headspace Health</td>\n",
              "      <td>50</td>\n",
              "      <td>4</td>\n",
              "      <td>12/14/2022</td>\n",
              "      <td>wellness</td>\n",
              "      <td>losangeles</td>\n",
              "      <td>Bloomberg</td>\n",
              "      <td>Private</td>\n",
              "    </tr>\n",
              "    <tr>\n",
              "      <th>9</th>\n",
              "      <td>RealSelf</td>\n",
              "      <td>11</td>\n",
              "      <td>5</td>\n",
              "      <td>7/21/2022</td>\n",
              "      <td>tech</td>\n",
              "      <td>seattle</td>\n",
              "      <td>GeekWire</td>\n",
              "      <td>Private</td>\n",
              "    </tr>\n",
              "  </tbody>\n",
              "</table>\n",
              "</div>\n",
              "      <button class=\"colab-df-convert\" onclick=\"convertToInteractive('df-b8ab7cca-029c-4ae7-aeae-346bcaa61b85')\"\n",
              "              title=\"Convert this dataframe to an interactive table.\"\n",
              "              style=\"display:none;\">\n",
              "        \n",
              "  <svg xmlns=\"http://www.w3.org/2000/svg\" height=\"24px\"viewBox=\"0 0 24 24\"\n",
              "       width=\"24px\">\n",
              "    <path d=\"M0 0h24v24H0V0z\" fill=\"none\"/>\n",
              "    <path d=\"M18.56 5.44l.94 2.06.94-2.06 2.06-.94-2.06-.94-.94-2.06-.94 2.06-2.06.94zm-11 1L8.5 8.5l.94-2.06 2.06-.94-2.06-.94L8.5 2.5l-.94 2.06-2.06.94zm10 10l.94 2.06.94-2.06 2.06-.94-2.06-.94-.94-2.06-.94 2.06-2.06.94z\"/><path d=\"M17.41 7.96l-1.37-1.37c-.4-.4-.92-.59-1.43-.59-.52 0-1.04.2-1.43.59L10.3 9.45l-7.72 7.72c-.78.78-.78 2.05 0 2.83L4 21.41c.39.39.9.59 1.41.59.51 0 1.02-.2 1.41-.59l7.78-7.78 2.81-2.81c.8-.78.8-2.07 0-2.86zM5.41 20L4 18.59l7.72-7.72 1.47 1.35L5.41 20z\"/>\n",
              "  </svg>\n",
              "      </button>\n",
              "      \n",
              "  <style>\n",
              "    .colab-df-container {\n",
              "      display:flex;\n",
              "      flex-wrap:wrap;\n",
              "      gap: 12px;\n",
              "    }\n",
              "\n",
              "    .colab-df-convert {\n",
              "      background-color: #E8F0FE;\n",
              "      border: none;\n",
              "      border-radius: 50%;\n",
              "      cursor: pointer;\n",
              "      display: none;\n",
              "      fill: #1967D2;\n",
              "      height: 32px;\n",
              "      padding: 0 0 0 0;\n",
              "      width: 32px;\n",
              "    }\n",
              "\n",
              "    .colab-df-convert:hover {\n",
              "      background-color: #E2EBFA;\n",
              "      box-shadow: 0px 1px 2px rgba(60, 64, 67, 0.3), 0px 1px 3px 1px rgba(60, 64, 67, 0.15);\n",
              "      fill: #174EA6;\n",
              "    }\n",
              "\n",
              "    [theme=dark] .colab-df-convert {\n",
              "      background-color: #3B4455;\n",
              "      fill: #D2E3FC;\n",
              "    }\n",
              "\n",
              "    [theme=dark] .colab-df-convert:hover {\n",
              "      background-color: #434B5C;\n",
              "      box-shadow: 0px 1px 3px 1px rgba(0, 0, 0, 0.15);\n",
              "      filter: drop-shadow(0px 1px 2px rgba(0, 0, 0, 0.3));\n",
              "      fill: #FFFFFF;\n",
              "    }\n",
              "  </style>\n",
              "\n",
              "      <script>\n",
              "        const buttonEl =\n",
              "          document.querySelector('#df-b8ab7cca-029c-4ae7-aeae-346bcaa61b85 button.colab-df-convert');\n",
              "        buttonEl.style.display =\n",
              "          google.colab.kernel.accessAllowed ? 'block' : 'none';\n",
              "\n",
              "        async function convertToInteractive(key) {\n",
              "          const element = document.querySelector('#df-b8ab7cca-029c-4ae7-aeae-346bcaa61b85');\n",
              "          const dataTable =\n",
              "            await google.colab.kernel.invokeFunction('convertToInteractive',\n",
              "                                                     [key], {});\n",
              "          if (!dataTable) return;\n",
              "\n",
              "          const docLinkHtml = 'Like what you see? Visit the ' +\n",
              "            '<a target=\"_blank\" href=https://colab.research.google.com/notebooks/data_table.ipynb>data table notebook</a>'\n",
              "            + ' to learn more about interactive tables.';\n",
              "          element.innerHTML = '';\n",
              "          dataTable['output_type'] = 'display_data';\n",
              "          await google.colab.output.renderOutput(dataTable, element);\n",
              "          const docLink = document.createElement('div');\n",
              "          docLink.innerHTML = docLinkHtml;\n",
              "          element.appendChild(docLink);\n",
              "        }\n",
              "      </script>\n",
              "    </div>\n",
              "  </div>\n",
              "  "
            ]
          },
          "metadata": {},
          "execution_count": 98
        }
      ]
    },
    {
      "cell_type": "markdown",
      "source": [
        "# EDA"
      ],
      "metadata": {
        "id": "guhIkjIxhCk3"
      }
    },
    {
      "cell_type": "code",
      "source": [],
      "metadata": {
        "id": "db-f_1sfhIcu"
      },
      "execution_count": 98,
      "outputs": []
    }
  ]
}