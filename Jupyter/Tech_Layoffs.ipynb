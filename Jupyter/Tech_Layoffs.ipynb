{
  "nbformat": 4,
  "nbformat_minor": 0,
  "metadata": {
    "colab": {
      "provenance": [],
      "authorship_tag": "ABX9TyOBImD37B0c7AP6vTza7eld",
      "include_colab_link": true
    },
    "kernelspec": {
      "name": "python3",
      "display_name": "Python 3"
    },
    "language_info": {
      "name": "python"
    }
  },
  "cells": [
    {
      "cell_type": "markdown",
      "metadata": {
        "id": "view-in-github",
        "colab_type": "text"
      },
      "source": [
        "<a href=\"https://colab.research.google.com/github/notyourfriends/Playground/blob/main/Jupyter/Tech_Layoffs.ipynb\" target=\"_parent\"><img src=\"https://colab.research.google.com/assets/colab-badge.svg\" alt=\"Open In Colab\"/></a>"
      ]
    },
    {
      "cell_type": "markdown",
      "source": [
        "# Load the data"
      ],
      "metadata": {
        "id": "XJCwaeJOABIL"
      }
    },
    {
      "cell_type": "code",
      "execution_count": 446,
      "metadata": {
        "colab": {
          "base_uri": "https://localhost:8080/"
        },
        "id": "V8tPmM1qeF_6",
        "outputId": "9a496b3d-c05b-4029-f122-dc8dcfc69186"
      },
      "outputs": [
        {
          "output_type": "stream",
          "name": "stdout",
          "text": [
            "Drive already mounted at /content/drive; to attempt to forcibly remount, call drive.mount(\"/content/drive\", force_remount=True).\n"
          ]
        }
      ],
      "source": [
        "from google.colab import drive\n",
        "drive.mount('/content/drive')"
      ]
    },
    {
      "cell_type": "code",
      "source": [
        "import pandas as pd"
      ],
      "metadata": {
        "id": "ygUCjvfae9WQ"
      },
      "execution_count": 447,
      "outputs": []
    },
    {
      "cell_type": "code",
      "source": [
        "data = pd.read_csv('/content/drive/MyDrive/CSVs/tech_layoffs.csv')"
      ],
      "metadata": {
        "id": "CTrwdQhte9Tw"
      },
      "execution_count": 448,
      "outputs": []
    },
    {
      "cell_type": "code",
      "source": [
        "data.columns"
      ],
      "metadata": {
        "colab": {
          "base_uri": "https://localhost:8080/"
        },
        "id": "BdzO5pCie9RF",
        "outputId": "0429189b-7b32-4984-9b9d-fae32f0d592b"
      },
      "execution_count": 449,
      "outputs": [
        {
          "output_type": "execute_result",
          "data": {
            "text/plain": [
              "Index(['company', 'total_layoffs', 'impacted_workforce_percentage',\n",
              "       'reported_date', 'industry', 'headquarter_location', 'sources',\n",
              "       'status', 'additional_notes'],\n",
              "      dtype='object')"
            ]
          },
          "metadata": {},
          "execution_count": 449
        }
      ]
    },
    {
      "cell_type": "code",
      "source": [
        "data.head(5)"
      ],
      "metadata": {
        "colab": {
          "base_uri": "https://localhost:8080/",
          "height": 427
        },
        "id": "-pH-PNpee9OH",
        "outputId": "b3c2d60b-7439-4e46-9134-e4dfbca682ca"
      },
      "execution_count": 450,
      "outputs": [
        {
          "output_type": "execute_result",
          "data": {
            "text/plain": [
              "          company total_layoffs impacted_workforce_percentage reported_date  \\\n",
              "0            C2FO            20                             2     12/9/2022   \n",
              "1        VideoAmp       Unclear                             2     9/19/2022   \n",
              "2        Amperity            13                             3     8/20/2022   \n",
              "3         Addepar            20                             3     1/18/2023   \n",
              "4  Thirty Madison            24                             3     5/13/2022   \n",
              "\n",
              "                  industry headquarter_location                       sources  \\\n",
              "0        Fintech, payments          Leawood, KS  Kansas City Business Journal   \n",
              "1    Advertising platforms          Los Angeles                  Company memo   \n",
              "2          Saas, analytics              Seattle                      Geekwire   \n",
              "3  fintech, data analytics    Mountain View, CA                       Fortune   \n",
              "4              Health Care             New York                         Axios   \n",
              "\n",
              "    status                                   additional_notes  \n",
              "0  Private                                                NaN  \n",
              "1  Private                                                NaN  \n",
              "2  Private                                                NaN  \n",
              "3  Private                                                NaN  \n",
              "4  Private  Per Axios, 22 of the employees laid off were f...  "
            ],
            "text/html": [
              "\n",
              "  <div id=\"df-1259f326-a046-4049-a425-f66d915cce49\">\n",
              "    <div class=\"colab-df-container\">\n",
              "      <div>\n",
              "<style scoped>\n",
              "    .dataframe tbody tr th:only-of-type {\n",
              "        vertical-align: middle;\n",
              "    }\n",
              "\n",
              "    .dataframe tbody tr th {\n",
              "        vertical-align: top;\n",
              "    }\n",
              "\n",
              "    .dataframe thead th {\n",
              "        text-align: right;\n",
              "    }\n",
              "</style>\n",
              "<table border=\"1\" class=\"dataframe\">\n",
              "  <thead>\n",
              "    <tr style=\"text-align: right;\">\n",
              "      <th></th>\n",
              "      <th>company</th>\n",
              "      <th>total_layoffs</th>\n",
              "      <th>impacted_workforce_percentage</th>\n",
              "      <th>reported_date</th>\n",
              "      <th>industry</th>\n",
              "      <th>headquarter_location</th>\n",
              "      <th>sources</th>\n",
              "      <th>status</th>\n",
              "      <th>additional_notes</th>\n",
              "    </tr>\n",
              "  </thead>\n",
              "  <tbody>\n",
              "    <tr>\n",
              "      <th>0</th>\n",
              "      <td>C2FO</td>\n",
              "      <td>20</td>\n",
              "      <td>2</td>\n",
              "      <td>12/9/2022</td>\n",
              "      <td>Fintech, payments</td>\n",
              "      <td>Leawood, KS</td>\n",
              "      <td>Kansas City Business Journal</td>\n",
              "      <td>Private</td>\n",
              "      <td>NaN</td>\n",
              "    </tr>\n",
              "    <tr>\n",
              "      <th>1</th>\n",
              "      <td>VideoAmp</td>\n",
              "      <td>Unclear</td>\n",
              "      <td>2</td>\n",
              "      <td>9/19/2022</td>\n",
              "      <td>Advertising platforms</td>\n",
              "      <td>Los Angeles</td>\n",
              "      <td>Company memo</td>\n",
              "      <td>Private</td>\n",
              "      <td>NaN</td>\n",
              "    </tr>\n",
              "    <tr>\n",
              "      <th>2</th>\n",
              "      <td>Amperity</td>\n",
              "      <td>13</td>\n",
              "      <td>3</td>\n",
              "      <td>8/20/2022</td>\n",
              "      <td>Saas, analytics</td>\n",
              "      <td>Seattle</td>\n",
              "      <td>Geekwire</td>\n",
              "      <td>Private</td>\n",
              "      <td>NaN</td>\n",
              "    </tr>\n",
              "    <tr>\n",
              "      <th>3</th>\n",
              "      <td>Addepar</td>\n",
              "      <td>20</td>\n",
              "      <td>3</td>\n",
              "      <td>1/18/2023</td>\n",
              "      <td>fintech, data analytics</td>\n",
              "      <td>Mountain View, CA</td>\n",
              "      <td>Fortune</td>\n",
              "      <td>Private</td>\n",
              "      <td>NaN</td>\n",
              "    </tr>\n",
              "    <tr>\n",
              "      <th>4</th>\n",
              "      <td>Thirty Madison</td>\n",
              "      <td>24</td>\n",
              "      <td>3</td>\n",
              "      <td>5/13/2022</td>\n",
              "      <td>Health Care</td>\n",
              "      <td>New York</td>\n",
              "      <td>Axios</td>\n",
              "      <td>Private</td>\n",
              "      <td>Per Axios, 22 of the employees laid off were f...</td>\n",
              "    </tr>\n",
              "  </tbody>\n",
              "</table>\n",
              "</div>\n",
              "      <button class=\"colab-df-convert\" onclick=\"convertToInteractive('df-1259f326-a046-4049-a425-f66d915cce49')\"\n",
              "              title=\"Convert this dataframe to an interactive table.\"\n",
              "              style=\"display:none;\">\n",
              "        \n",
              "  <svg xmlns=\"http://www.w3.org/2000/svg\" height=\"24px\"viewBox=\"0 0 24 24\"\n",
              "       width=\"24px\">\n",
              "    <path d=\"M0 0h24v24H0V0z\" fill=\"none\"/>\n",
              "    <path d=\"M18.56 5.44l.94 2.06.94-2.06 2.06-.94-2.06-.94-.94-2.06-.94 2.06-2.06.94zm-11 1L8.5 8.5l.94-2.06 2.06-.94-2.06-.94L8.5 2.5l-.94 2.06-2.06.94zm10 10l.94 2.06.94-2.06 2.06-.94-2.06-.94-.94-2.06-.94 2.06-2.06.94z\"/><path d=\"M17.41 7.96l-1.37-1.37c-.4-.4-.92-.59-1.43-.59-.52 0-1.04.2-1.43.59L10.3 9.45l-7.72 7.72c-.78.78-.78 2.05 0 2.83L4 21.41c.39.39.9.59 1.41.59.51 0 1.02-.2 1.41-.59l7.78-7.78 2.81-2.81c.8-.78.8-2.07 0-2.86zM5.41 20L4 18.59l7.72-7.72 1.47 1.35L5.41 20z\"/>\n",
              "  </svg>\n",
              "      </button>\n",
              "      \n",
              "  <style>\n",
              "    .colab-df-container {\n",
              "      display:flex;\n",
              "      flex-wrap:wrap;\n",
              "      gap: 12px;\n",
              "    }\n",
              "\n",
              "    .colab-df-convert {\n",
              "      background-color: #E8F0FE;\n",
              "      border: none;\n",
              "      border-radius: 50%;\n",
              "      cursor: pointer;\n",
              "      display: none;\n",
              "      fill: #1967D2;\n",
              "      height: 32px;\n",
              "      padding: 0 0 0 0;\n",
              "      width: 32px;\n",
              "    }\n",
              "\n",
              "    .colab-df-convert:hover {\n",
              "      background-color: #E2EBFA;\n",
              "      box-shadow: 0px 1px 2px rgba(60, 64, 67, 0.3), 0px 1px 3px 1px rgba(60, 64, 67, 0.15);\n",
              "      fill: #174EA6;\n",
              "    }\n",
              "\n",
              "    [theme=dark] .colab-df-convert {\n",
              "      background-color: #3B4455;\n",
              "      fill: #D2E3FC;\n",
              "    }\n",
              "\n",
              "    [theme=dark] .colab-df-convert:hover {\n",
              "      background-color: #434B5C;\n",
              "      box-shadow: 0px 1px 3px 1px rgba(0, 0, 0, 0.15);\n",
              "      filter: drop-shadow(0px 1px 2px rgba(0, 0, 0, 0.3));\n",
              "      fill: #FFFFFF;\n",
              "    }\n",
              "  </style>\n",
              "\n",
              "      <script>\n",
              "        const buttonEl =\n",
              "          document.querySelector('#df-1259f326-a046-4049-a425-f66d915cce49 button.colab-df-convert');\n",
              "        buttonEl.style.display =\n",
              "          google.colab.kernel.accessAllowed ? 'block' : 'none';\n",
              "\n",
              "        async function convertToInteractive(key) {\n",
              "          const element = document.querySelector('#df-1259f326-a046-4049-a425-f66d915cce49');\n",
              "          const dataTable =\n",
              "            await google.colab.kernel.invokeFunction('convertToInteractive',\n",
              "                                                     [key], {});\n",
              "          if (!dataTable) return;\n",
              "\n",
              "          const docLinkHtml = 'Like what you see? Visit the ' +\n",
              "            '<a target=\"_blank\" href=https://colab.research.google.com/notebooks/data_table.ipynb>data table notebook</a>'\n",
              "            + ' to learn more about interactive tables.';\n",
              "          element.innerHTML = '';\n",
              "          dataTable['output_type'] = 'display_data';\n",
              "          await google.colab.output.renderOutput(dataTable, element);\n",
              "          const docLink = document.createElement('div');\n",
              "          docLink.innerHTML = docLinkHtml;\n",
              "          element.appendChild(docLink);\n",
              "        }\n",
              "      </script>\n",
              "    </div>\n",
              "  </div>\n",
              "  "
            ]
          },
          "metadata": {},
          "execution_count": 450
        }
      ]
    },
    {
      "cell_type": "markdown",
      "source": [],
      "metadata": {
        "id": "f6-3fv2fCNbA"
      }
    },
    {
      "cell_type": "markdown",
      "source": [
        "# Preprocess"
      ],
      "metadata": {
        "id": "QzFE5igkg_jX"
      }
    },
    {
      "cell_type": "code",
      "source": [
        "data['Date'] = pd.to_datetime(data['reported_date'])\n",
        "data['Month'] = data['Date'].dt.month\n",
        "data['Year'] = pd.to_datetime(data['Date']).dt.strftime('%Y')"
      ],
      "metadata": {
        "id": "sfReisX3nqQz"
      },
      "execution_count": 451,
      "outputs": []
    },
    {
      "cell_type": "code",
      "source": [
        "data.isnull().sum()"
      ],
      "metadata": {
        "colab": {
          "base_uri": "https://localhost:8080/"
        },
        "id": "Db3w9TvUe9Ig",
        "outputId": "14625dec-c183-444d-fa82-e45c848878f5"
      },
      "execution_count": 452,
      "outputs": [
        {
          "output_type": "execute_result",
          "data": {
            "text/plain": [
              "company                            0\n",
              "total_layoffs                      0\n",
              "impacted_workforce_percentage      0\n",
              "reported_date                      0\n",
              "industry                           0\n",
              "headquarter_location               0\n",
              "sources                            0\n",
              "status                             0\n",
              "additional_notes                 467\n",
              "Date                               0\n",
              "Month                              0\n",
              "Year                               0\n",
              "dtype: int64"
            ]
          },
          "metadata": {},
          "execution_count": 452
        }
      ]
    },
    {
      "cell_type": "markdown",
      "source": [
        "ada sebanyak 467 data kosong di \"additional_notes\", drop aja ga penting juga wkwk"
      ],
      "metadata": {
        "id": "iBAYPoCohtgp"
      }
    },
    {
      "cell_type": "code",
      "source": [
        "data.drop('additional_notes', inplace=True, axis=1)"
      ],
      "metadata": {
        "id": "YqVV9wJfhmUP"
      },
      "execution_count": 453,
      "outputs": []
    },
    {
      "cell_type": "code",
      "source": [
        "data.head()"
      ],
      "metadata": {
        "id": "5q8MXnFyhsVx",
        "colab": {
          "base_uri": "https://localhost:8080/",
          "height": 409
        },
        "outputId": "ac72d14d-80fc-4b68-c663-bce816a9754e"
      },
      "execution_count": 454,
      "outputs": [
        {
          "output_type": "execute_result",
          "data": {
            "text/plain": [
              "          company total_layoffs impacted_workforce_percentage reported_date  \\\n",
              "0            C2FO            20                             2     12/9/2022   \n",
              "1        VideoAmp       Unclear                             2     9/19/2022   \n",
              "2        Amperity            13                             3     8/20/2022   \n",
              "3         Addepar            20                             3     1/18/2023   \n",
              "4  Thirty Madison            24                             3     5/13/2022   \n",
              "\n",
              "                  industry headquarter_location                       sources  \\\n",
              "0        Fintech, payments          Leawood, KS  Kansas City Business Journal   \n",
              "1    Advertising platforms          Los Angeles                  Company memo   \n",
              "2          Saas, analytics              Seattle                      Geekwire   \n",
              "3  fintech, data analytics    Mountain View, CA                       Fortune   \n",
              "4              Health Care             New York                         Axios   \n",
              "\n",
              "    status       Date  Month  Year  \n",
              "0  Private 2022-12-09     12  2022  \n",
              "1  Private 2022-09-19      9  2022  \n",
              "2  Private 2022-08-20      8  2022  \n",
              "3  Private 2023-01-18      1  2023  \n",
              "4  Private 2022-05-13      5  2022  "
            ],
            "text/html": [
              "\n",
              "  <div id=\"df-fa98f97c-515d-4a45-8db6-f4efa62d6587\">\n",
              "    <div class=\"colab-df-container\">\n",
              "      <div>\n",
              "<style scoped>\n",
              "    .dataframe tbody tr th:only-of-type {\n",
              "        vertical-align: middle;\n",
              "    }\n",
              "\n",
              "    .dataframe tbody tr th {\n",
              "        vertical-align: top;\n",
              "    }\n",
              "\n",
              "    .dataframe thead th {\n",
              "        text-align: right;\n",
              "    }\n",
              "</style>\n",
              "<table border=\"1\" class=\"dataframe\">\n",
              "  <thead>\n",
              "    <tr style=\"text-align: right;\">\n",
              "      <th></th>\n",
              "      <th>company</th>\n",
              "      <th>total_layoffs</th>\n",
              "      <th>impacted_workforce_percentage</th>\n",
              "      <th>reported_date</th>\n",
              "      <th>industry</th>\n",
              "      <th>headquarter_location</th>\n",
              "      <th>sources</th>\n",
              "      <th>status</th>\n",
              "      <th>Date</th>\n",
              "      <th>Month</th>\n",
              "      <th>Year</th>\n",
              "    </tr>\n",
              "  </thead>\n",
              "  <tbody>\n",
              "    <tr>\n",
              "      <th>0</th>\n",
              "      <td>C2FO</td>\n",
              "      <td>20</td>\n",
              "      <td>2</td>\n",
              "      <td>12/9/2022</td>\n",
              "      <td>Fintech, payments</td>\n",
              "      <td>Leawood, KS</td>\n",
              "      <td>Kansas City Business Journal</td>\n",
              "      <td>Private</td>\n",
              "      <td>2022-12-09</td>\n",
              "      <td>12</td>\n",
              "      <td>2022</td>\n",
              "    </tr>\n",
              "    <tr>\n",
              "      <th>1</th>\n",
              "      <td>VideoAmp</td>\n",
              "      <td>Unclear</td>\n",
              "      <td>2</td>\n",
              "      <td>9/19/2022</td>\n",
              "      <td>Advertising platforms</td>\n",
              "      <td>Los Angeles</td>\n",
              "      <td>Company memo</td>\n",
              "      <td>Private</td>\n",
              "      <td>2022-09-19</td>\n",
              "      <td>9</td>\n",
              "      <td>2022</td>\n",
              "    </tr>\n",
              "    <tr>\n",
              "      <th>2</th>\n",
              "      <td>Amperity</td>\n",
              "      <td>13</td>\n",
              "      <td>3</td>\n",
              "      <td>8/20/2022</td>\n",
              "      <td>Saas, analytics</td>\n",
              "      <td>Seattle</td>\n",
              "      <td>Geekwire</td>\n",
              "      <td>Private</td>\n",
              "      <td>2022-08-20</td>\n",
              "      <td>8</td>\n",
              "      <td>2022</td>\n",
              "    </tr>\n",
              "    <tr>\n",
              "      <th>3</th>\n",
              "      <td>Addepar</td>\n",
              "      <td>20</td>\n",
              "      <td>3</td>\n",
              "      <td>1/18/2023</td>\n",
              "      <td>fintech, data analytics</td>\n",
              "      <td>Mountain View, CA</td>\n",
              "      <td>Fortune</td>\n",
              "      <td>Private</td>\n",
              "      <td>2023-01-18</td>\n",
              "      <td>1</td>\n",
              "      <td>2023</td>\n",
              "    </tr>\n",
              "    <tr>\n",
              "      <th>4</th>\n",
              "      <td>Thirty Madison</td>\n",
              "      <td>24</td>\n",
              "      <td>3</td>\n",
              "      <td>5/13/2022</td>\n",
              "      <td>Health Care</td>\n",
              "      <td>New York</td>\n",
              "      <td>Axios</td>\n",
              "      <td>Private</td>\n",
              "      <td>2022-05-13</td>\n",
              "      <td>5</td>\n",
              "      <td>2022</td>\n",
              "    </tr>\n",
              "  </tbody>\n",
              "</table>\n",
              "</div>\n",
              "      <button class=\"colab-df-convert\" onclick=\"convertToInteractive('df-fa98f97c-515d-4a45-8db6-f4efa62d6587')\"\n",
              "              title=\"Convert this dataframe to an interactive table.\"\n",
              "              style=\"display:none;\">\n",
              "        \n",
              "  <svg xmlns=\"http://www.w3.org/2000/svg\" height=\"24px\"viewBox=\"0 0 24 24\"\n",
              "       width=\"24px\">\n",
              "    <path d=\"M0 0h24v24H0V0z\" fill=\"none\"/>\n",
              "    <path d=\"M18.56 5.44l.94 2.06.94-2.06 2.06-.94-2.06-.94-.94-2.06-.94 2.06-2.06.94zm-11 1L8.5 8.5l.94-2.06 2.06-.94-2.06-.94L8.5 2.5l-.94 2.06-2.06.94zm10 10l.94 2.06.94-2.06 2.06-.94-2.06-.94-.94-2.06-.94 2.06-2.06.94z\"/><path d=\"M17.41 7.96l-1.37-1.37c-.4-.4-.92-.59-1.43-.59-.52 0-1.04.2-1.43.59L10.3 9.45l-7.72 7.72c-.78.78-.78 2.05 0 2.83L4 21.41c.39.39.9.59 1.41.59.51 0 1.02-.2 1.41-.59l7.78-7.78 2.81-2.81c.8-.78.8-2.07 0-2.86zM5.41 20L4 18.59l7.72-7.72 1.47 1.35L5.41 20z\"/>\n",
              "  </svg>\n",
              "      </button>\n",
              "      \n",
              "  <style>\n",
              "    .colab-df-container {\n",
              "      display:flex;\n",
              "      flex-wrap:wrap;\n",
              "      gap: 12px;\n",
              "    }\n",
              "\n",
              "    .colab-df-convert {\n",
              "      background-color: #E8F0FE;\n",
              "      border: none;\n",
              "      border-radius: 50%;\n",
              "      cursor: pointer;\n",
              "      display: none;\n",
              "      fill: #1967D2;\n",
              "      height: 32px;\n",
              "      padding: 0 0 0 0;\n",
              "      width: 32px;\n",
              "    }\n",
              "\n",
              "    .colab-df-convert:hover {\n",
              "      background-color: #E2EBFA;\n",
              "      box-shadow: 0px 1px 2px rgba(60, 64, 67, 0.3), 0px 1px 3px 1px rgba(60, 64, 67, 0.15);\n",
              "      fill: #174EA6;\n",
              "    }\n",
              "\n",
              "    [theme=dark] .colab-df-convert {\n",
              "      background-color: #3B4455;\n",
              "      fill: #D2E3FC;\n",
              "    }\n",
              "\n",
              "    [theme=dark] .colab-df-convert:hover {\n",
              "      background-color: #434B5C;\n",
              "      box-shadow: 0px 1px 3px 1px rgba(0, 0, 0, 0.15);\n",
              "      filter: drop-shadow(0px 1px 2px rgba(0, 0, 0, 0.3));\n",
              "      fill: #FFFFFF;\n",
              "    }\n",
              "  </style>\n",
              "\n",
              "      <script>\n",
              "        const buttonEl =\n",
              "          document.querySelector('#df-fa98f97c-515d-4a45-8db6-f4efa62d6587 button.colab-df-convert');\n",
              "        buttonEl.style.display =\n",
              "          google.colab.kernel.accessAllowed ? 'block' : 'none';\n",
              "\n",
              "        async function convertToInteractive(key) {\n",
              "          const element = document.querySelector('#df-fa98f97c-515d-4a45-8db6-f4efa62d6587');\n",
              "          const dataTable =\n",
              "            await google.colab.kernel.invokeFunction('convertToInteractive',\n",
              "                                                     [key], {});\n",
              "          if (!dataTable) return;\n",
              "\n",
              "          const docLinkHtml = 'Like what you see? Visit the ' +\n",
              "            '<a target=\"_blank\" href=https://colab.research.google.com/notebooks/data_table.ipynb>data table notebook</a>'\n",
              "            + ' to learn more about interactive tables.';\n",
              "          element.innerHTML = '';\n",
              "          dataTable['output_type'] = 'display_data';\n",
              "          await google.colab.output.renderOutput(dataTable, element);\n",
              "          const docLink = document.createElement('div');\n",
              "          docLink.innerHTML = docLinkHtml;\n",
              "          element.appendChild(docLink);\n",
              "        }\n",
              "      </script>\n",
              "    </div>\n",
              "  </div>\n",
              "  "
            ]
          },
          "metadata": {},
          "execution_count": 454
        }
      ]
    },
    {
      "cell_type": "code",
      "source": [
        "data.columns"
      ],
      "metadata": {
        "id": "3T28WsADiLu-",
        "outputId": "7b00a440-5622-422d-c16e-92af80396aa1",
        "colab": {
          "base_uri": "https://localhost:8080/"
        }
      },
      "execution_count": 455,
      "outputs": [
        {
          "output_type": "execute_result",
          "data": {
            "text/plain": [
              "Index(['company', 'total_layoffs', 'impacted_workforce_percentage',\n",
              "       'reported_date', 'industry', 'headquarter_location', 'sources',\n",
              "       'status', 'Date', 'Month', 'Year'],\n",
              "      dtype='object')"
            ]
          },
          "metadata": {},
          "execution_count": 455
        }
      ]
    },
    {
      "cell_type": "code",
      "source": [],
      "metadata": {
        "id": "fcLGjAjR_IpM"
      },
      "execution_count": 455,
      "outputs": []
    },
    {
      "cell_type": "code",
      "source": [
        "dn = data['sources'].value_counts()\n",
        "dn"
      ],
      "metadata": {
        "colab": {
          "base_uri": "https://localhost:8080/"
        },
        "id": "nv_Xl1NT96_p",
        "outputId": "f41cf155-0e40-40a2-ebdd-6ff19a672652"
      },
      "execution_count": 456,
      "outputs": [
        {
          "output_type": "execute_result",
          "data": {
            "text/plain": [
              "TechCrunch          52\n",
              "The Information     23\n",
              "Business Insider    23\n",
              "Calcalistech        20\n",
              "LinkedIn            16\n",
              "                    ..\n",
              "CityWire             1\n",
              "OneTrust             1\n",
              "Mobi Health News     1\n",
              "Homeward             1\n",
              "Doma                 1\n",
              "Name: sources, Length: 221, dtype: int64"
            ]
          },
          "metadata": {},
          "execution_count": 456
        }
      ]
    },
    {
      "cell_type": "markdown",
      "source": [
        "based on sources, most of the data acquired from TechCrunch"
      ],
      "metadata": {
        "id": "i4ZVlucJ-m4Y"
      }
    },
    {
      "cell_type": "code",
      "source": [],
      "metadata": {
        "id": "P9_penfB_Imk"
      },
      "execution_count": 456,
      "outputs": []
    },
    {
      "cell_type": "code",
      "source": [
        "industry_counts = data.groupby('industry').size().reset_index(name='count').sort_values(by='count', ascending=False)\n",
        "industry_counts"
      ],
      "metadata": {
        "colab": {
          "base_uri": "https://localhost:8080/",
          "height": 424
        },
        "id": "Vipsx5w-_oZx",
        "outputId": "1cbc3cc8-c584-4c1b-94ce-c2736f50323a"
      },
      "execution_count": 457,
      "outputs": [
        {
          "output_type": "execute_result",
          "data": {
            "text/plain": [
              "               industry  count\n",
              "91              Fintech     24\n",
              "109         Health Care     17\n",
              "166            PropTech     15\n",
              "63           E-commerce     13\n",
              "52        Cybersecurity     10\n",
              "..                  ...    ...\n",
              "121  IT, future of work      1\n",
              "122        IT, software      1\n",
              "125  Insurance, fintech      1\n",
              "126           Insurtech      1\n",
              "288         video games      1\n",
              "\n",
              "[289 rows x 2 columns]"
            ],
            "text/html": [
              "\n",
              "  <div id=\"df-b72cc6cd-42b3-475e-b4dc-c0f7142bd592\">\n",
              "    <div class=\"colab-df-container\">\n",
              "      <div>\n",
              "<style scoped>\n",
              "    .dataframe tbody tr th:only-of-type {\n",
              "        vertical-align: middle;\n",
              "    }\n",
              "\n",
              "    .dataframe tbody tr th {\n",
              "        vertical-align: top;\n",
              "    }\n",
              "\n",
              "    .dataframe thead th {\n",
              "        text-align: right;\n",
              "    }\n",
              "</style>\n",
              "<table border=\"1\" class=\"dataframe\">\n",
              "  <thead>\n",
              "    <tr style=\"text-align: right;\">\n",
              "      <th></th>\n",
              "      <th>industry</th>\n",
              "      <th>count</th>\n",
              "    </tr>\n",
              "  </thead>\n",
              "  <tbody>\n",
              "    <tr>\n",
              "      <th>91</th>\n",
              "      <td>Fintech</td>\n",
              "      <td>24</td>\n",
              "    </tr>\n",
              "    <tr>\n",
              "      <th>109</th>\n",
              "      <td>Health Care</td>\n",
              "      <td>17</td>\n",
              "    </tr>\n",
              "    <tr>\n",
              "      <th>166</th>\n",
              "      <td>PropTech</td>\n",
              "      <td>15</td>\n",
              "    </tr>\n",
              "    <tr>\n",
              "      <th>63</th>\n",
              "      <td>E-commerce</td>\n",
              "      <td>13</td>\n",
              "    </tr>\n",
              "    <tr>\n",
              "      <th>52</th>\n",
              "      <td>Cybersecurity</td>\n",
              "      <td>10</td>\n",
              "    </tr>\n",
              "    <tr>\n",
              "      <th>...</th>\n",
              "      <td>...</td>\n",
              "      <td>...</td>\n",
              "    </tr>\n",
              "    <tr>\n",
              "      <th>121</th>\n",
              "      <td>IT, future of work</td>\n",
              "      <td>1</td>\n",
              "    </tr>\n",
              "    <tr>\n",
              "      <th>122</th>\n",
              "      <td>IT, software</td>\n",
              "      <td>1</td>\n",
              "    </tr>\n",
              "    <tr>\n",
              "      <th>125</th>\n",
              "      <td>Insurance, fintech</td>\n",
              "      <td>1</td>\n",
              "    </tr>\n",
              "    <tr>\n",
              "      <th>126</th>\n",
              "      <td>Insurtech</td>\n",
              "      <td>1</td>\n",
              "    </tr>\n",
              "    <tr>\n",
              "      <th>288</th>\n",
              "      <td>video games</td>\n",
              "      <td>1</td>\n",
              "    </tr>\n",
              "  </tbody>\n",
              "</table>\n",
              "<p>289 rows × 2 columns</p>\n",
              "</div>\n",
              "      <button class=\"colab-df-convert\" onclick=\"convertToInteractive('df-b72cc6cd-42b3-475e-b4dc-c0f7142bd592')\"\n",
              "              title=\"Convert this dataframe to an interactive table.\"\n",
              "              style=\"display:none;\">\n",
              "        \n",
              "  <svg xmlns=\"http://www.w3.org/2000/svg\" height=\"24px\"viewBox=\"0 0 24 24\"\n",
              "       width=\"24px\">\n",
              "    <path d=\"M0 0h24v24H0V0z\" fill=\"none\"/>\n",
              "    <path d=\"M18.56 5.44l.94 2.06.94-2.06 2.06-.94-2.06-.94-.94-2.06-.94 2.06-2.06.94zm-11 1L8.5 8.5l.94-2.06 2.06-.94-2.06-.94L8.5 2.5l-.94 2.06-2.06.94zm10 10l.94 2.06.94-2.06 2.06-.94-2.06-.94-.94-2.06-.94 2.06-2.06.94z\"/><path d=\"M17.41 7.96l-1.37-1.37c-.4-.4-.92-.59-1.43-.59-.52 0-1.04.2-1.43.59L10.3 9.45l-7.72 7.72c-.78.78-.78 2.05 0 2.83L4 21.41c.39.39.9.59 1.41.59.51 0 1.02-.2 1.41-.59l7.78-7.78 2.81-2.81c.8-.78.8-2.07 0-2.86zM5.41 20L4 18.59l7.72-7.72 1.47 1.35L5.41 20z\"/>\n",
              "  </svg>\n",
              "      </button>\n",
              "      \n",
              "  <style>\n",
              "    .colab-df-container {\n",
              "      display:flex;\n",
              "      flex-wrap:wrap;\n",
              "      gap: 12px;\n",
              "    }\n",
              "\n",
              "    .colab-df-convert {\n",
              "      background-color: #E8F0FE;\n",
              "      border: none;\n",
              "      border-radius: 50%;\n",
              "      cursor: pointer;\n",
              "      display: none;\n",
              "      fill: #1967D2;\n",
              "      height: 32px;\n",
              "      padding: 0 0 0 0;\n",
              "      width: 32px;\n",
              "    }\n",
              "\n",
              "    .colab-df-convert:hover {\n",
              "      background-color: #E2EBFA;\n",
              "      box-shadow: 0px 1px 2px rgba(60, 64, 67, 0.3), 0px 1px 3px 1px rgba(60, 64, 67, 0.15);\n",
              "      fill: #174EA6;\n",
              "    }\n",
              "\n",
              "    [theme=dark] .colab-df-convert {\n",
              "      background-color: #3B4455;\n",
              "      fill: #D2E3FC;\n",
              "    }\n",
              "\n",
              "    [theme=dark] .colab-df-convert:hover {\n",
              "      background-color: #434B5C;\n",
              "      box-shadow: 0px 1px 3px 1px rgba(0, 0, 0, 0.15);\n",
              "      filter: drop-shadow(0px 1px 2px rgba(0, 0, 0, 0.3));\n",
              "      fill: #FFFFFF;\n",
              "    }\n",
              "  </style>\n",
              "\n",
              "      <script>\n",
              "        const buttonEl =\n",
              "          document.querySelector('#df-b72cc6cd-42b3-475e-b4dc-c0f7142bd592 button.colab-df-convert');\n",
              "        buttonEl.style.display =\n",
              "          google.colab.kernel.accessAllowed ? 'block' : 'none';\n",
              "\n",
              "        async function convertToInteractive(key) {\n",
              "          const element = document.querySelector('#df-b72cc6cd-42b3-475e-b4dc-c0f7142bd592');\n",
              "          const dataTable =\n",
              "            await google.colab.kernel.invokeFunction('convertToInteractive',\n",
              "                                                     [key], {});\n",
              "          if (!dataTable) return;\n",
              "\n",
              "          const docLinkHtml = 'Like what you see? Visit the ' +\n",
              "            '<a target=\"_blank\" href=https://colab.research.google.com/notebooks/data_table.ipynb>data table notebook</a>'\n",
              "            + ' to learn more about interactive tables.';\n",
              "          element.innerHTML = '';\n",
              "          dataTable['output_type'] = 'display_data';\n",
              "          await google.colab.output.renderOutput(dataTable, element);\n",
              "          const docLink = document.createElement('div');\n",
              "          docLink.innerHTML = docLinkHtml;\n",
              "          element.appendChild(docLink);\n",
              "        }\n",
              "      </script>\n",
              "    </div>\n",
              "  </div>\n",
              "  "
            ]
          },
          "metadata": {},
          "execution_count": 457
        }
      ]
    },
    {
      "cell_type": "markdown",
      "source": [
        "ternyata golongan paling banyak layoff ada di industri Fintech"
      ],
      "metadata": {
        "id": "xGNV4Bfn_29p"
      }
    },
    {
      "cell_type": "code",
      "source": [],
      "metadata": {
        "id": "0ratTdih_Ijy"
      },
      "execution_count": 457,
      "outputs": []
    },
    {
      "cell_type": "markdown",
      "source": [
        "berhubung namanya tidak seragam dan ada simbol, saatnya menyelaraskan nama tersebut"
      ],
      "metadata": {
        "id": "a0dDmaSBAHr4"
      }
    },
    {
      "cell_type": "code",
      "source": [
        "ind = []\n",
        "for i in data['industry'].to_list():\n",
        "    ind.append(i.split(' ')[-1])\n",
        "\n",
        "ind = [x.lower() for x in ind]\n",
        "ind = [x.replace(\"-\", \"\") for x in ind]\n",
        "\n",
        "data['industry'] = ind"
      ],
      "metadata": {
        "id": "VzorGs7d_2og"
      },
      "execution_count": 458,
      "outputs": []
    },
    {
      "cell_type": "code",
      "source": [
        "data['industry'].head(10)"
      ],
      "metadata": {
        "colab": {
          "base_uri": "https://localhost:8080/"
        },
        "id": "x_KSXEliB8qQ",
        "outputId": "89bbf977-647f-47f7-b5a1-cfc512616a38"
      },
      "execution_count": 459,
      "outputs": [
        {
          "output_type": "execute_result",
          "data": {
            "text/plain": [
              "0         payments\n",
              "1        platforms\n",
              "2        analytics\n",
              "3        analytics\n",
              "4             care\n",
              "5             tech\n",
              "6    cybersecurity\n",
              "7        ecommerce\n",
              "8         wellness\n",
              "9             tech\n",
              "Name: industry, dtype: object"
            ]
          },
          "metadata": {},
          "execution_count": 459
        }
      ]
    },
    {
      "cell_type": "code",
      "source": [
        "industry_counts = data.groupby('industry').size().reset_index(name='count').sort_values(by='count', ascending=False)\n",
        "industry_counts"
      ],
      "metadata": {
        "colab": {
          "base_uri": "https://localhost:8080/",
          "height": 424
        },
        "id": "zmZCRyjACDwg",
        "outputId": "5625c171-6db6-403e-9104-3481f4cb25fb"
      },
      "execution_count": 460,
      "outputs": [
        {
          "output_type": "execute_result",
          "data": {
            "text/plain": [
              "       industry  count\n",
              "53      fintech     35\n",
              "107    software     32\n",
              "94     proptech     30\n",
              "40    ecommerce     29\n",
              "20         care     27\n",
              "..          ...    ...\n",
              "49       events      1\n",
              "46   esignature      1\n",
              "44       energy      1\n",
              "42      editing      1\n",
              "128        work      1\n",
              "\n",
              "[129 rows x 2 columns]"
            ],
            "text/html": [
              "\n",
              "  <div id=\"df-64fcc225-2cbf-4dcd-8509-8da9751d6123\">\n",
              "    <div class=\"colab-df-container\">\n",
              "      <div>\n",
              "<style scoped>\n",
              "    .dataframe tbody tr th:only-of-type {\n",
              "        vertical-align: middle;\n",
              "    }\n",
              "\n",
              "    .dataframe tbody tr th {\n",
              "        vertical-align: top;\n",
              "    }\n",
              "\n",
              "    .dataframe thead th {\n",
              "        text-align: right;\n",
              "    }\n",
              "</style>\n",
              "<table border=\"1\" class=\"dataframe\">\n",
              "  <thead>\n",
              "    <tr style=\"text-align: right;\">\n",
              "      <th></th>\n",
              "      <th>industry</th>\n",
              "      <th>count</th>\n",
              "    </tr>\n",
              "  </thead>\n",
              "  <tbody>\n",
              "    <tr>\n",
              "      <th>53</th>\n",
              "      <td>fintech</td>\n",
              "      <td>35</td>\n",
              "    </tr>\n",
              "    <tr>\n",
              "      <th>107</th>\n",
              "      <td>software</td>\n",
              "      <td>32</td>\n",
              "    </tr>\n",
              "    <tr>\n",
              "      <th>94</th>\n",
              "      <td>proptech</td>\n",
              "      <td>30</td>\n",
              "    </tr>\n",
              "    <tr>\n",
              "      <th>40</th>\n",
              "      <td>ecommerce</td>\n",
              "      <td>29</td>\n",
              "    </tr>\n",
              "    <tr>\n",
              "      <th>20</th>\n",
              "      <td>care</td>\n",
              "      <td>27</td>\n",
              "    </tr>\n",
              "    <tr>\n",
              "      <th>...</th>\n",
              "      <td>...</td>\n",
              "      <td>...</td>\n",
              "    </tr>\n",
              "    <tr>\n",
              "      <th>49</th>\n",
              "      <td>events</td>\n",
              "      <td>1</td>\n",
              "    </tr>\n",
              "    <tr>\n",
              "      <th>46</th>\n",
              "      <td>esignature</td>\n",
              "      <td>1</td>\n",
              "    </tr>\n",
              "    <tr>\n",
              "      <th>44</th>\n",
              "      <td>energy</td>\n",
              "      <td>1</td>\n",
              "    </tr>\n",
              "    <tr>\n",
              "      <th>42</th>\n",
              "      <td>editing</td>\n",
              "      <td>1</td>\n",
              "    </tr>\n",
              "    <tr>\n",
              "      <th>128</th>\n",
              "      <td>work</td>\n",
              "      <td>1</td>\n",
              "    </tr>\n",
              "  </tbody>\n",
              "</table>\n",
              "<p>129 rows × 2 columns</p>\n",
              "</div>\n",
              "      <button class=\"colab-df-convert\" onclick=\"convertToInteractive('df-64fcc225-2cbf-4dcd-8509-8da9751d6123')\"\n",
              "              title=\"Convert this dataframe to an interactive table.\"\n",
              "              style=\"display:none;\">\n",
              "        \n",
              "  <svg xmlns=\"http://www.w3.org/2000/svg\" height=\"24px\"viewBox=\"0 0 24 24\"\n",
              "       width=\"24px\">\n",
              "    <path d=\"M0 0h24v24H0V0z\" fill=\"none\"/>\n",
              "    <path d=\"M18.56 5.44l.94 2.06.94-2.06 2.06-.94-2.06-.94-.94-2.06-.94 2.06-2.06.94zm-11 1L8.5 8.5l.94-2.06 2.06-.94-2.06-.94L8.5 2.5l-.94 2.06-2.06.94zm10 10l.94 2.06.94-2.06 2.06-.94-2.06-.94-.94-2.06-.94 2.06-2.06.94z\"/><path d=\"M17.41 7.96l-1.37-1.37c-.4-.4-.92-.59-1.43-.59-.52 0-1.04.2-1.43.59L10.3 9.45l-7.72 7.72c-.78.78-.78 2.05 0 2.83L4 21.41c.39.39.9.59 1.41.59.51 0 1.02-.2 1.41-.59l7.78-7.78 2.81-2.81c.8-.78.8-2.07 0-2.86zM5.41 20L4 18.59l7.72-7.72 1.47 1.35L5.41 20z\"/>\n",
              "  </svg>\n",
              "      </button>\n",
              "      \n",
              "  <style>\n",
              "    .colab-df-container {\n",
              "      display:flex;\n",
              "      flex-wrap:wrap;\n",
              "      gap: 12px;\n",
              "    }\n",
              "\n",
              "    .colab-df-convert {\n",
              "      background-color: #E8F0FE;\n",
              "      border: none;\n",
              "      border-radius: 50%;\n",
              "      cursor: pointer;\n",
              "      display: none;\n",
              "      fill: #1967D2;\n",
              "      height: 32px;\n",
              "      padding: 0 0 0 0;\n",
              "      width: 32px;\n",
              "    }\n",
              "\n",
              "    .colab-df-convert:hover {\n",
              "      background-color: #E2EBFA;\n",
              "      box-shadow: 0px 1px 2px rgba(60, 64, 67, 0.3), 0px 1px 3px 1px rgba(60, 64, 67, 0.15);\n",
              "      fill: #174EA6;\n",
              "    }\n",
              "\n",
              "    [theme=dark] .colab-df-convert {\n",
              "      background-color: #3B4455;\n",
              "      fill: #D2E3FC;\n",
              "    }\n",
              "\n",
              "    [theme=dark] .colab-df-convert:hover {\n",
              "      background-color: #434B5C;\n",
              "      box-shadow: 0px 1px 3px 1px rgba(0, 0, 0, 0.15);\n",
              "      filter: drop-shadow(0px 1px 2px rgba(0, 0, 0, 0.3));\n",
              "      fill: #FFFFFF;\n",
              "    }\n",
              "  </style>\n",
              "\n",
              "      <script>\n",
              "        const buttonEl =\n",
              "          document.querySelector('#df-64fcc225-2cbf-4dcd-8509-8da9751d6123 button.colab-df-convert');\n",
              "        buttonEl.style.display =\n",
              "          google.colab.kernel.accessAllowed ? 'block' : 'none';\n",
              "\n",
              "        async function convertToInteractive(key) {\n",
              "          const element = document.querySelector('#df-64fcc225-2cbf-4dcd-8509-8da9751d6123');\n",
              "          const dataTable =\n",
              "            await google.colab.kernel.invokeFunction('convertToInteractive',\n",
              "                                                     [key], {});\n",
              "          if (!dataTable) return;\n",
              "\n",
              "          const docLinkHtml = 'Like what you see? Visit the ' +\n",
              "            '<a target=\"_blank\" href=https://colab.research.google.com/notebooks/data_table.ipynb>data table notebook</a>'\n",
              "            + ' to learn more about interactive tables.';\n",
              "          element.innerHTML = '';\n",
              "          dataTable['output_type'] = 'display_data';\n",
              "          await google.colab.output.renderOutput(dataTable, element);\n",
              "          const docLink = document.createElement('div');\n",
              "          docLink.innerHTML = docLinkHtml;\n",
              "          element.appendChild(docLink);\n",
              "        }\n",
              "      </script>\n",
              "    </div>\n",
              "  </div>\n",
              "  "
            ]
          },
          "metadata": {},
          "execution_count": 460
        }
      ]
    },
    {
      "cell_type": "code",
      "source": [],
      "metadata": {
        "id": "62bd6IQ0_Iha"
      },
      "execution_count": 460,
      "outputs": []
    },
    {
      "cell_type": "code",
      "source": [
        "data['industry'].head(10).to_list()"
      ],
      "metadata": {
        "colab": {
          "base_uri": "https://localhost:8080/"
        },
        "id": "NBOBVCplCPkQ",
        "outputId": "76f5d6eb-ec55-4244-d945-a7fc5a695af8"
      },
      "execution_count": 461,
      "outputs": [
        {
          "output_type": "execute_result",
          "data": {
            "text/plain": [
              "['payments',\n",
              " 'platforms',\n",
              " 'analytics',\n",
              " 'analytics',\n",
              " 'care',\n",
              " 'tech',\n",
              " 'cybersecurity',\n",
              " 'ecommerce',\n",
              " 'wellness',\n",
              " 'tech']"
            ]
          },
          "metadata": {},
          "execution_count": 461
        }
      ]
    },
    {
      "cell_type": "markdown",
      "source": [
        "lakukan hal yang sama pada kolom HQ"
      ],
      "metadata": {
        "id": "yvL2UpbFAcxz"
      }
    },
    {
      "cell_type": "code",
      "source": [
        "data['headquarter_location'].head()"
      ],
      "metadata": {
        "colab": {
          "base_uri": "https://localhost:8080/"
        },
        "id": "YGKgZl3YBXmy",
        "outputId": "ec7a51a7-81d8-4238-e759-d96ea74cd444"
      },
      "execution_count": 462,
      "outputs": [
        {
          "output_type": "execute_result",
          "data": {
            "text/plain": [
              "0          Leawood, KS\n",
              "1          Los Angeles\n",
              "2              Seattle\n",
              "3    Mountain View, CA\n",
              "4             New York\n",
              "Name: headquarter_location, dtype: object"
            ]
          },
          "metadata": {},
          "execution_count": 462
        }
      ]
    },
    {
      "cell_type": "code",
      "source": [
        "data['headquarter_location'] = data['headquarter_location'].str.lower().str.replace(\"-\", '').str.replace(\" \", '').str.split(',').str[-1]"
      ],
      "metadata": {
        "id": "keemohQFIbuq"
      },
      "execution_count": 463,
      "outputs": []
    },
    {
      "cell_type": "markdown",
      "source": [
        "jadi ini bisa juga digunakan dari pada sebelumnya yang harus ngasih array kosong dahulu."
      ],
      "metadata": {
        "id": "159Swe6EK-kp"
      }
    },
    {
      "cell_type": "code",
      "source": [
        "data['headquarter_location'].head()"
      ],
      "metadata": {
        "colab": {
          "base_uri": "https://localhost:8080/"
        },
        "id": "tx-71_3ZIt9p",
        "outputId": "a753c1e1-1acf-43e0-9d26-ef04d0fb769e"
      },
      "execution_count": 464,
      "outputs": [
        {
          "output_type": "execute_result",
          "data": {
            "text/plain": [
              "0            ks\n",
              "1    losangeles\n",
              "2       seattle\n",
              "3            ca\n",
              "4       newyork\n",
              "Name: headquarter_location, dtype: object"
            ]
          },
          "metadata": {},
          "execution_count": 464
        }
      ]
    },
    {
      "cell_type": "markdown",
      "source": [
        "semua data udah seragam sekarang"
      ],
      "metadata": {
        "id": "D6TS2581CVRg"
      }
    },
    {
      "cell_type": "code",
      "source": [
        "data.head(10)"
      ],
      "metadata": {
        "colab": {
          "base_uri": "https://localhost:8080/",
          "height": 618
        },
        "id": "jEozWVDl_Ieq",
        "outputId": "0c085642-f988-4140-dcd9-bb4f0c77acf8"
      },
      "execution_count": 465,
      "outputs": [
        {
          "output_type": "execute_result",
          "data": {
            "text/plain": [
              "            company total_layoffs impacted_workforce_percentage reported_date  \\\n",
              "0              C2FO            20                             2     12/9/2022   \n",
              "1          VideoAmp       Unclear                             2     9/19/2022   \n",
              "2          Amperity            13                             3     8/20/2022   \n",
              "3           Addepar            20                             3     1/18/2023   \n",
              "4    Thirty Madison            24                             3     5/13/2022   \n",
              "5          NextRoll       Unclear                             3      7/8/2022   \n",
              "6    Armis Security            25                             4     12/8/2022   \n",
              "7           Foxtrot            26                             4     9/23/2022   \n",
              "8  Headspace Health            50                             4    12/14/2022   \n",
              "9          RealSelf            11                             5     7/21/2022   \n",
              "\n",
              "        industry headquarter_location                       sources   status  \\\n",
              "0       payments                   ks  Kansas City Business Journal  Private   \n",
              "1      platforms           losangeles                  Company memo  Private   \n",
              "2      analytics              seattle                      Geekwire  Private   \n",
              "3      analytics                   ca                       Fortune  Private   \n",
              "4           care              newyork                         Axios  Private   \n",
              "5           tech         sanfrancisco              Business Insider  Private   \n",
              "6  cybersecurity         sanfrancisco                  Calcalistech  Private   \n",
              "7      ecommerce              chicago              Chicago Business  Private   \n",
              "8       wellness           losangeles                     Bloomberg  Private   \n",
              "9           tech              seattle                      GeekWire  Private   \n",
              "\n",
              "        Date  Month  Year  \n",
              "0 2022-12-09     12  2022  \n",
              "1 2022-09-19      9  2022  \n",
              "2 2022-08-20      8  2022  \n",
              "3 2023-01-18      1  2023  \n",
              "4 2022-05-13      5  2022  \n",
              "5 2022-07-08      7  2022  \n",
              "6 2022-12-08     12  2022  \n",
              "7 2022-09-23      9  2022  \n",
              "8 2022-12-14     12  2022  \n",
              "9 2022-07-21      7  2022  "
            ],
            "text/html": [
              "\n",
              "  <div id=\"df-a86cf28d-b020-47e8-8d3a-9d909111e096\">\n",
              "    <div class=\"colab-df-container\">\n",
              "      <div>\n",
              "<style scoped>\n",
              "    .dataframe tbody tr th:only-of-type {\n",
              "        vertical-align: middle;\n",
              "    }\n",
              "\n",
              "    .dataframe tbody tr th {\n",
              "        vertical-align: top;\n",
              "    }\n",
              "\n",
              "    .dataframe thead th {\n",
              "        text-align: right;\n",
              "    }\n",
              "</style>\n",
              "<table border=\"1\" class=\"dataframe\">\n",
              "  <thead>\n",
              "    <tr style=\"text-align: right;\">\n",
              "      <th></th>\n",
              "      <th>company</th>\n",
              "      <th>total_layoffs</th>\n",
              "      <th>impacted_workforce_percentage</th>\n",
              "      <th>reported_date</th>\n",
              "      <th>industry</th>\n",
              "      <th>headquarter_location</th>\n",
              "      <th>sources</th>\n",
              "      <th>status</th>\n",
              "      <th>Date</th>\n",
              "      <th>Month</th>\n",
              "      <th>Year</th>\n",
              "    </tr>\n",
              "  </thead>\n",
              "  <tbody>\n",
              "    <tr>\n",
              "      <th>0</th>\n",
              "      <td>C2FO</td>\n",
              "      <td>20</td>\n",
              "      <td>2</td>\n",
              "      <td>12/9/2022</td>\n",
              "      <td>payments</td>\n",
              "      <td>ks</td>\n",
              "      <td>Kansas City Business Journal</td>\n",
              "      <td>Private</td>\n",
              "      <td>2022-12-09</td>\n",
              "      <td>12</td>\n",
              "      <td>2022</td>\n",
              "    </tr>\n",
              "    <tr>\n",
              "      <th>1</th>\n",
              "      <td>VideoAmp</td>\n",
              "      <td>Unclear</td>\n",
              "      <td>2</td>\n",
              "      <td>9/19/2022</td>\n",
              "      <td>platforms</td>\n",
              "      <td>losangeles</td>\n",
              "      <td>Company memo</td>\n",
              "      <td>Private</td>\n",
              "      <td>2022-09-19</td>\n",
              "      <td>9</td>\n",
              "      <td>2022</td>\n",
              "    </tr>\n",
              "    <tr>\n",
              "      <th>2</th>\n",
              "      <td>Amperity</td>\n",
              "      <td>13</td>\n",
              "      <td>3</td>\n",
              "      <td>8/20/2022</td>\n",
              "      <td>analytics</td>\n",
              "      <td>seattle</td>\n",
              "      <td>Geekwire</td>\n",
              "      <td>Private</td>\n",
              "      <td>2022-08-20</td>\n",
              "      <td>8</td>\n",
              "      <td>2022</td>\n",
              "    </tr>\n",
              "    <tr>\n",
              "      <th>3</th>\n",
              "      <td>Addepar</td>\n",
              "      <td>20</td>\n",
              "      <td>3</td>\n",
              "      <td>1/18/2023</td>\n",
              "      <td>analytics</td>\n",
              "      <td>ca</td>\n",
              "      <td>Fortune</td>\n",
              "      <td>Private</td>\n",
              "      <td>2023-01-18</td>\n",
              "      <td>1</td>\n",
              "      <td>2023</td>\n",
              "    </tr>\n",
              "    <tr>\n",
              "      <th>4</th>\n",
              "      <td>Thirty Madison</td>\n",
              "      <td>24</td>\n",
              "      <td>3</td>\n",
              "      <td>5/13/2022</td>\n",
              "      <td>care</td>\n",
              "      <td>newyork</td>\n",
              "      <td>Axios</td>\n",
              "      <td>Private</td>\n",
              "      <td>2022-05-13</td>\n",
              "      <td>5</td>\n",
              "      <td>2022</td>\n",
              "    </tr>\n",
              "    <tr>\n",
              "      <th>5</th>\n",
              "      <td>NextRoll</td>\n",
              "      <td>Unclear</td>\n",
              "      <td>3</td>\n",
              "      <td>7/8/2022</td>\n",
              "      <td>tech</td>\n",
              "      <td>sanfrancisco</td>\n",
              "      <td>Business Insider</td>\n",
              "      <td>Private</td>\n",
              "      <td>2022-07-08</td>\n",
              "      <td>7</td>\n",
              "      <td>2022</td>\n",
              "    </tr>\n",
              "    <tr>\n",
              "      <th>6</th>\n",
              "      <td>Armis Security</td>\n",
              "      <td>25</td>\n",
              "      <td>4</td>\n",
              "      <td>12/8/2022</td>\n",
              "      <td>cybersecurity</td>\n",
              "      <td>sanfrancisco</td>\n",
              "      <td>Calcalistech</td>\n",
              "      <td>Private</td>\n",
              "      <td>2022-12-08</td>\n",
              "      <td>12</td>\n",
              "      <td>2022</td>\n",
              "    </tr>\n",
              "    <tr>\n",
              "      <th>7</th>\n",
              "      <td>Foxtrot</td>\n",
              "      <td>26</td>\n",
              "      <td>4</td>\n",
              "      <td>9/23/2022</td>\n",
              "      <td>ecommerce</td>\n",
              "      <td>chicago</td>\n",
              "      <td>Chicago Business</td>\n",
              "      <td>Private</td>\n",
              "      <td>2022-09-23</td>\n",
              "      <td>9</td>\n",
              "      <td>2022</td>\n",
              "    </tr>\n",
              "    <tr>\n",
              "      <th>8</th>\n",
              "      <td>Headspace Health</td>\n",
              "      <td>50</td>\n",
              "      <td>4</td>\n",
              "      <td>12/14/2022</td>\n",
              "      <td>wellness</td>\n",
              "      <td>losangeles</td>\n",
              "      <td>Bloomberg</td>\n",
              "      <td>Private</td>\n",
              "      <td>2022-12-14</td>\n",
              "      <td>12</td>\n",
              "      <td>2022</td>\n",
              "    </tr>\n",
              "    <tr>\n",
              "      <th>9</th>\n",
              "      <td>RealSelf</td>\n",
              "      <td>11</td>\n",
              "      <td>5</td>\n",
              "      <td>7/21/2022</td>\n",
              "      <td>tech</td>\n",
              "      <td>seattle</td>\n",
              "      <td>GeekWire</td>\n",
              "      <td>Private</td>\n",
              "      <td>2022-07-21</td>\n",
              "      <td>7</td>\n",
              "      <td>2022</td>\n",
              "    </tr>\n",
              "  </tbody>\n",
              "</table>\n",
              "</div>\n",
              "      <button class=\"colab-df-convert\" onclick=\"convertToInteractive('df-a86cf28d-b020-47e8-8d3a-9d909111e096')\"\n",
              "              title=\"Convert this dataframe to an interactive table.\"\n",
              "              style=\"display:none;\">\n",
              "        \n",
              "  <svg xmlns=\"http://www.w3.org/2000/svg\" height=\"24px\"viewBox=\"0 0 24 24\"\n",
              "       width=\"24px\">\n",
              "    <path d=\"M0 0h24v24H0V0z\" fill=\"none\"/>\n",
              "    <path d=\"M18.56 5.44l.94 2.06.94-2.06 2.06-.94-2.06-.94-.94-2.06-.94 2.06-2.06.94zm-11 1L8.5 8.5l.94-2.06 2.06-.94-2.06-.94L8.5 2.5l-.94 2.06-2.06.94zm10 10l.94 2.06.94-2.06 2.06-.94-2.06-.94-.94-2.06-.94 2.06-2.06.94z\"/><path d=\"M17.41 7.96l-1.37-1.37c-.4-.4-.92-.59-1.43-.59-.52 0-1.04.2-1.43.59L10.3 9.45l-7.72 7.72c-.78.78-.78 2.05 0 2.83L4 21.41c.39.39.9.59 1.41.59.51 0 1.02-.2 1.41-.59l7.78-7.78 2.81-2.81c.8-.78.8-2.07 0-2.86zM5.41 20L4 18.59l7.72-7.72 1.47 1.35L5.41 20z\"/>\n",
              "  </svg>\n",
              "      </button>\n",
              "      \n",
              "  <style>\n",
              "    .colab-df-container {\n",
              "      display:flex;\n",
              "      flex-wrap:wrap;\n",
              "      gap: 12px;\n",
              "    }\n",
              "\n",
              "    .colab-df-convert {\n",
              "      background-color: #E8F0FE;\n",
              "      border: none;\n",
              "      border-radius: 50%;\n",
              "      cursor: pointer;\n",
              "      display: none;\n",
              "      fill: #1967D2;\n",
              "      height: 32px;\n",
              "      padding: 0 0 0 0;\n",
              "      width: 32px;\n",
              "    }\n",
              "\n",
              "    .colab-df-convert:hover {\n",
              "      background-color: #E2EBFA;\n",
              "      box-shadow: 0px 1px 2px rgba(60, 64, 67, 0.3), 0px 1px 3px 1px rgba(60, 64, 67, 0.15);\n",
              "      fill: #174EA6;\n",
              "    }\n",
              "\n",
              "    [theme=dark] .colab-df-convert {\n",
              "      background-color: #3B4455;\n",
              "      fill: #D2E3FC;\n",
              "    }\n",
              "\n",
              "    [theme=dark] .colab-df-convert:hover {\n",
              "      background-color: #434B5C;\n",
              "      box-shadow: 0px 1px 3px 1px rgba(0, 0, 0, 0.15);\n",
              "      filter: drop-shadow(0px 1px 2px rgba(0, 0, 0, 0.3));\n",
              "      fill: #FFFFFF;\n",
              "    }\n",
              "  </style>\n",
              "\n",
              "      <script>\n",
              "        const buttonEl =\n",
              "          document.querySelector('#df-a86cf28d-b020-47e8-8d3a-9d909111e096 button.colab-df-convert');\n",
              "        buttonEl.style.display =\n",
              "          google.colab.kernel.accessAllowed ? 'block' : 'none';\n",
              "\n",
              "        async function convertToInteractive(key) {\n",
              "          const element = document.querySelector('#df-a86cf28d-b020-47e8-8d3a-9d909111e096');\n",
              "          const dataTable =\n",
              "            await google.colab.kernel.invokeFunction('convertToInteractive',\n",
              "                                                     [key], {});\n",
              "          if (!dataTable) return;\n",
              "\n",
              "          const docLinkHtml = 'Like what you see? Visit the ' +\n",
              "            '<a target=\"_blank\" href=https://colab.research.google.com/notebooks/data_table.ipynb>data table notebook</a>'\n",
              "            + ' to learn more about interactive tables.';\n",
              "          element.innerHTML = '';\n",
              "          dataTable['output_type'] = 'display_data';\n",
              "          await google.colab.output.renderOutput(dataTable, element);\n",
              "          const docLink = document.createElement('div');\n",
              "          docLink.innerHTML = docLinkHtml;\n",
              "          element.appendChild(docLink);\n",
              "        }\n",
              "      </script>\n",
              "    </div>\n",
              "  </div>\n",
              "  "
            ]
          },
          "metadata": {},
          "execution_count": 465
        }
      ]
    },
    {
      "cell_type": "markdown",
      "source": [
        "# EDA (Exploratory Data Analysis)"
      ],
      "metadata": {
        "id": "guhIkjIxhCk3"
      }
    },
    {
      "cell_type": "markdown",
      "source": [
        "cek dulu kolom total layoff"
      ],
      "metadata": {
        "id": "AJ0Dt8BKOF2-"
      }
    },
    {
      "cell_type": "code",
      "source": [
        "data['total_layoffs']"
      ],
      "metadata": {
        "colab": {
          "base_uri": "https://localhost:8080/"
        },
        "id": "V8keFe_5OEZY",
        "outputId": "e85a37ae-8558-424b-adcd-f1be461a5fb8"
      },
      "execution_count": 466,
      "outputs": [
        {
          "output_type": "execute_result",
          "data": {
            "text/plain": [
              "0           20\n",
              "1      Unclear\n",
              "2           13\n",
              "3           20\n",
              "4           24\n",
              "        ...   \n",
              "484       9090\n",
              "485    Unclear\n",
              "486    Unclear\n",
              "487    Unclear\n",
              "488    Unclear\n",
              "Name: total_layoffs, Length: 489, dtype: object"
            ]
          },
          "metadata": {},
          "execution_count": 466
        }
      ]
    },
    {
      "cell_type": "markdown",
      "source": [
        "ada 489 total index, integer dan string (unclear) => ini bakalan kita ganti valuenya"
      ],
      "metadata": {
        "id": "CNh4jMtJONKw"
      }
    },
    {
      "cell_type": "code",
      "source": [
        "def not_a_number(x):\n",
        "  if not x.isnumeric():\n",
        "    return 0\n",
        "  else:\n",
        "    return int(x)"
      ],
      "metadata": {
        "id": "R2RfbLPxmOkK"
      },
      "execution_count": 467,
      "outputs": []
    },
    {
      "cell_type": "markdown",
      "source": [
        "bisa juga langsung pake fungsi replace"
      ],
      "metadata": {
        "id": "xGiXQ7dDmN-C"
      }
    },
    {
      "cell_type": "code",
      "source": [
        "data['total_layoffs'] = data['total_layoffs'].apply(not_a_number)"
      ],
      "metadata": {
        "id": "NYikjMGEjoXs"
      },
      "execution_count": 468,
      "outputs": []
    },
    {
      "cell_type": "code",
      "source": [
        "data['total_layoffs'].head()"
      ],
      "metadata": {
        "colab": {
          "base_uri": "https://localhost:8080/"
        },
        "id": "giJIlWK1oKUS",
        "outputId": "d5f41fb9-93d4-4771-9a75-d20af7d2cd01"
      },
      "execution_count": 469,
      "outputs": [
        {
          "output_type": "execute_result",
          "data": {
            "text/plain": [
              "0    20\n",
              "1     0\n",
              "2    13\n",
              "3    20\n",
              "4    24\n",
              "Name: total_layoffs, dtype: int64"
            ]
          },
          "metadata": {},
          "execution_count": 469
        }
      ]
    },
    {
      "cell_type": "code",
      "source": [
        "import matplotlib.pyplot as plt\n",
        "import seaborn as sns\n",
        "import matplotlib\n",
        "\n",
        "matplotlib.rcParams.update({'font.size':22})"
      ],
      "metadata": {
        "id": "KrI1m4-XoV5D"
      },
      "execution_count": 470,
      "outputs": []
    },
    {
      "cell_type": "code",
      "source": [
        "x = data['total_layoffs']\n",
        "y = data['company']\n",
        "top10 = data.sort_values(by=\"total_layoffs\", ascending=False).head(10)\n",
        "\n",
        "#draw the graph\n",
        "plt.figure(figsize=(25,10))\n",
        "l=sns.barplot(x='total_layoffs', y='company', data=top10)\n",
        "\n",
        "#add number of layoff on each bar\n",
        "for container in l.containers:\n",
        "  l.bar_label(container)\n",
        "\n",
        "plt.ylabel('Industry')\n",
        "plt.xlabel('Layoff')\n",
        "plt.title('Total 10 Layoff by Company')\n",
        "plt.show()"
      ],
      "metadata": {
        "colab": {
          "base_uri": "https://localhost:8080/",
          "height": 333
        },
        "id": "XEx7_UuBqrEC",
        "outputId": "0f15d652-49b9-4753-e7f5-39d88adde26c"
      },
      "execution_count": 471,
      "outputs": [
        {
          "output_type": "display_data",
          "data": {
            "text/plain": [
              "<Figure size 1800x720 with 1 Axes>"
            ],
            "image/png": "[encoded data removed]"
          },
          "metadata": {
            "needs_background": "light"
          }
        }
      ]
    },
    {
      "cell_type": "code",
      "source": [
        "top10_inds = data['industry'].value_counts().head(10)\n",
        "top10_inds"
      ],
      "metadata": {
        "colab": {
          "base_uri": "https://localhost:8080/"
        },
        "id": "Bfz9sHHd144p",
        "outputId": "14b51ede-ad82-4539-8b30-daa19b25d2f6"
      },
      "execution_count": 472,
      "outputs": [
        {
          "output_type": "execute_result",
          "data": {
            "text/plain": [
              "fintech           35\n",
              "software          32\n",
              "proptech          30\n",
              "ecommerce         29\n",
              "care              27\n",
              "tech              16\n",
              "analytics         12\n",
              "cryptocurrency    12\n",
              "marketing         12\n",
              "cybersecurity     11\n",
              "Name: industry, dtype: int64"
            ]
          },
          "metadata": {},
          "execution_count": 472
        }
      ]
    },
    {
      "cell_type": "code",
      "source": [
        "top10_inds = data.groupby('industry').size().sort_values(ascending=False).head(10)\n",
        "top10_inds"
      ],
      "metadata": {
        "colab": {
          "base_uri": "https://localhost:8080/"
        },
        "id": "L959AumQ2D3Y",
        "outputId": "87ab53cb-34bc-40ff-9697-a9df75596e8e"
      },
      "execution_count": 473,
      "outputs": [
        {
          "output_type": "execute_result",
          "data": {
            "text/plain": [
              "industry\n",
              "fintech           35\n",
              "software          32\n",
              "proptech          30\n",
              "ecommerce         29\n",
              "care              27\n",
              "tech              16\n",
              "analytics         12\n",
              "marketing         12\n",
              "cryptocurrency    12\n",
              "edtech            11\n",
              "dtype: int64"
            ]
          },
          "metadata": {},
          "execution_count": 473
        }
      ]
    },
    {
      "cell_type": "code",
      "source": [
        "#run this one only once, twice it'll get error, and need to reset runtime\n",
        "top10_inds = top10_inds.to_frame().reset_index()\n",
        "top10_inds"
      ],
      "metadata": {
        "colab": {
          "base_uri": "https://localhost:8080/",
          "height": 363
        },
        "id": "BiKcdEtu55JX",
        "outputId": "6a4bbdba-fc21-479c-8531-96cdb534fcbb"
      },
      "execution_count": 474,
      "outputs": [
        {
          "output_type": "execute_result",
          "data": {
            "text/plain": [
              "         industry   0\n",
              "0         fintech  35\n",
              "1        software  32\n",
              "2        proptech  30\n",
              "3       ecommerce  29\n",
              "4            care  27\n",
              "5            tech  16\n",
              "6       analytics  12\n",
              "7       marketing  12\n",
              "8  cryptocurrency  12\n",
              "9          edtech  11"
            ],
            "text/html": [
              "\n",
              "  <div id=\"df-f8da99aa-1061-47bc-a9ce-8d9416ce2ae1\">\n",
              "    <div class=\"colab-df-container\">\n",
              "      <div>\n",
              "<style scoped>\n",
              "    .dataframe tbody tr th:only-of-type {\n",
              "        vertical-align: middle;\n",
              "    }\n",
              "\n",
              "    .dataframe tbody tr th {\n",
              "        vertical-align: top;\n",
              "    }\n",
              "\n",
              "    .dataframe thead th {\n",
              "        text-align: right;\n",
              "    }\n",
              "</style>\n",
              "<table border=\"1\" class=\"dataframe\">\n",
              "  <thead>\n",
              "    <tr style=\"text-align: right;\">\n",
              "      <th></th>\n",
              "      <th>industry</th>\n",
              "      <th>0</th>\n",
              "    </tr>\n",
              "  </thead>\n",
              "  <tbody>\n",
              "    <tr>\n",
              "      <th>0</th>\n",
              "      <td>fintech</td>\n",
              "      <td>35</td>\n",
              "    </tr>\n",
              "    <tr>\n",
              "      <th>1</th>\n",
              "      <td>software</td>\n",
              "      <td>32</td>\n",
              "    </tr>\n",
              "    <tr>\n",
              "      <th>2</th>\n",
              "      <td>proptech</td>\n",
              "      <td>30</td>\n",
              "    </tr>\n",
              "    <tr>\n",
              "      <th>3</th>\n",
              "      <td>ecommerce</td>\n",
              "      <td>29</td>\n",
              "    </tr>\n",
              "    <tr>\n",
              "      <th>4</th>\n",
              "      <td>care</td>\n",
              "      <td>27</td>\n",
              "    </tr>\n",
              "    <tr>\n",
              "      <th>5</th>\n",
              "      <td>tech</td>\n",
              "      <td>16</td>\n",
              "    </tr>\n",
              "    <tr>\n",
              "      <th>6</th>\n",
              "      <td>analytics</td>\n",
              "      <td>12</td>\n",
              "    </tr>\n",
              "    <tr>\n",
              "      <th>7</th>\n",
              "      <td>marketing</td>\n",
              "      <td>12</td>\n",
              "    </tr>\n",
              "    <tr>\n",
              "      <th>8</th>\n",
              "      <td>cryptocurrency</td>\n",
              "      <td>12</td>\n",
              "    </tr>\n",
              "    <tr>\n",
              "      <th>9</th>\n",
              "      <td>edtech</td>\n",
              "      <td>11</td>\n",
              "    </tr>\n",
              "  </tbody>\n",
              "</table>\n",
              "</div>\n",
              "      <button class=\"colab-df-convert\" onclick=\"convertToInteractive('df-f8da99aa-1061-47bc-a9ce-8d9416ce2ae1')\"\n",
              "              title=\"Convert this dataframe to an interactive table.\"\n",
              "              style=\"display:none;\">\n",
              "        \n",
              "  <svg xmlns=\"http://www.w3.org/2000/svg\" height=\"24px\"viewBox=\"0 0 24 24\"\n",
              "       width=\"24px\">\n",
              "    <path d=\"M0 0h24v24H0V0z\" fill=\"none\"/>\n",
              "    <path d=\"M18.56 5.44l.94 2.06.94-2.06 2.06-.94-2.06-.94-.94-2.06-.94 2.06-2.06.94zm-11 1L8.5 8.5l.94-2.06 2.06-.94-2.06-.94L8.5 2.5l-.94 2.06-2.06.94zm10 10l.94 2.06.94-2.06 2.06-.94-2.06-.94-.94-2.06-.94 2.06-2.06.94z\"/><path d=\"M17.41 7.96l-1.37-1.37c-.4-.4-.92-.59-1.43-.59-.52 0-1.04.2-1.43.59L10.3 9.45l-7.72 7.72c-.78.78-.78 2.05 0 2.83L4 21.41c.39.39.9.59 1.41.59.51 0 1.02-.2 1.41-.59l7.78-7.78 2.81-2.81c.8-.78.8-2.07 0-2.86zM5.41 20L4 18.59l7.72-7.72 1.47 1.35L5.41 20z\"/>\n",
              "  </svg>\n",
              "      </button>\n",
              "      \n",
              "  <style>\n",
              "    .colab-df-container {\n",
              "      display:flex;\n",
              "      flex-wrap:wrap;\n",
              "      gap: 12px;\n",
              "    }\n",
              "\n",
              "    .colab-df-convert {\n",
              "      background-color: #E8F0FE;\n",
              "      border: none;\n",
              "      border-radius: 50%;\n",
              "      cursor: pointer;\n",
              "      display: none;\n",
              "      fill: #1967D2;\n",
              "      height: 32px;\n",
              "      padding: 0 0 0 0;\n",
              "      width: 32px;\n",
              "    }\n",
              "\n",
              "    .colab-df-convert:hover {\n",
              "      background-color: #E2EBFA;\n",
              "      box-shadow: 0px 1px 2px rgba(60, 64, 67, 0.3), 0px 1px 3px 1px rgba(60, 64, 67, 0.15);\n",
              "      fill: #174EA6;\n",
              "    }\n",
              "\n",
              "    [theme=dark] .colab-df-convert {\n",
              "      background-color: #3B4455;\n",
              "      fill: #D2E3FC;\n",
              "    }\n",
              "\n",
              "    [theme=dark] .colab-df-convert:hover {\n",
              "      background-color: #434B5C;\n",
              "      box-shadow: 0px 1px 3px 1px rgba(0, 0, 0, 0.15);\n",
              "      filter: drop-shadow(0px 1px 2px rgba(0, 0, 0, 0.3));\n",
              "      fill: #FFFFFF;\n",
              "    }\n",
              "  </style>\n",
              "\n",
              "      <script>\n",
              "        const buttonEl =\n",
              "          document.querySelector('#df-f8da99aa-1061-47bc-a9ce-8d9416ce2ae1 button.colab-df-convert');\n",
              "        buttonEl.style.display =\n",
              "          google.colab.kernel.accessAllowed ? 'block' : 'none';\n",
              "\n",
              "        async function convertToInteractive(key) {\n",
              "          const element = document.querySelector('#df-f8da99aa-1061-47bc-a9ce-8d9416ce2ae1');\n",
              "          const dataTable =\n",
              "            await google.colab.kernel.invokeFunction('convertToInteractive',\n",
              "                                                     [key], {});\n",
              "          if (!dataTable) return;\n",
              "\n",
              "          const docLinkHtml = 'Like what you see? Visit the ' +\n",
              "            '<a target=\"_blank\" href=https://colab.research.google.com/notebooks/data_table.ipynb>data table notebook</a>'\n",
              "            + ' to learn more about interactive tables.';\n",
              "          element.innerHTML = '';\n",
              "          dataTable['output_type'] = 'display_data';\n",
              "          await google.colab.output.renderOutput(dataTable, element);\n",
              "          const docLink = document.createElement('div');\n",
              "          docLink.innerHTML = docLinkHtml;\n",
              "          element.appendChild(docLink);\n",
              "        }\n",
              "      </script>\n",
              "    </div>\n",
              "  </div>\n",
              "  "
            ]
          },
          "metadata": {},
          "execution_count": 474
        }
      ]
    },
    {
      "cell_type": "code",
      "source": [
        "plt.figure(figsize=(25,10))\n",
        "l=sns.barplot(y='industry',x=0, data=top10_inds)\n",
        "\n",
        "#add number of layoff on each bar\n",
        "for container in l.containers:\n",
        "  l.bar_label(container)\n",
        "\n",
        "plt.ylabel('Industry')\n",
        "plt.xlabel('Layoff')\n",
        "plt.title('Total 10 Layoff by Industries')\n",
        "plt.show()"
      ],
      "metadata": {
        "colab": {
          "base_uri": "https://localhost:8080/",
          "height": 325
        },
        "id": "9Te2cixX2XB_",
        "outputId": "6675bbbf-6c4b-4895-e5b3-3bea4fd33842"
      },
      "execution_count": 476,
      "outputs": [
        {
          "output_type": "display_data",
          "data": {
            "text/plain": [
              "<Figure size 1800x720 with 1 Axes>"
            ],
            "image/png": "[encoded data removed]"
          },
          "metadata": {
            "needs_background": "light"
          }
        }
      ]
    },
    {
      "cell_type": "code",
      "source": [
        "top10_hq = data['headquarter_location'].value_counts().head(10)\n",
        "top10_hq"
      ],
      "metadata": {
        "colab": {
          "base_uri": "https://localhost:8080/"
        },
        "id": "WLTwi1Xz6frH",
        "outputId": "45011ded-6b5d-421e-e816-34e6723fa42d"
      },
      "execution_count": 477,
      "outputs": [
        {
          "output_type": "execute_result",
          "data": {
            "text/plain": [
              "sanfrancisco    136\n",
              "newyork          77\n",
              "ca               51\n",
              "seattle          21\n",
              "losangeles       20\n",
              "boston           16\n",
              "chicago          12\n",
              "ma                6\n",
              "tx                6\n",
              "atlanta           5\n",
              "Name: headquarter_location, dtype: int64"
            ]
          },
          "metadata": {},
          "execution_count": 477
        }
      ]
    },
    {
      "cell_type": "code",
      "source": [
        "top10_hq = data.groupby('headquarter_location').size().sort_values(ascending=False).head(10)\n",
        "top10_hq"
      ],
      "metadata": {
        "colab": {
          "base_uri": "https://localhost:8080/"
        },
        "id": "6nFyOm9-7B7f",
        "outputId": "abbc0933-4e08-4e97-c8ee-0960ef6d0929"
      },
      "execution_count": 479,
      "outputs": [
        {
          "output_type": "execute_result",
          "data": {
            "text/plain": [
              "headquarter_location\n",
              "sanfrancisco    136\n",
              "newyork          77\n",
              "ca               51\n",
              "seattle          21\n",
              "losangeles       20\n",
              "boston           16\n",
              "chicago          12\n",
              "ma                6\n",
              "tx                6\n",
              "sandiego          5\n",
              "dtype: int64"
            ]
          },
          "metadata": {},
          "execution_count": 479
        }
      ]
    },
    {
      "cell_type": "code",
      "source": [
        "#run this one only once, twice it'll get error, and need to reset runtime\n",
        "top10_hq = top10_hq.to_frame().reset_index()\n",
        "top10_hq"
      ],
      "metadata": {
        "colab": {
          "base_uri": "https://localhost:8080/",
          "height": 363
        },
        "id": "byH1aqoZ7Q_2",
        "outputId": "5286e4fe-6fa6-433e-a783-3838e07026fe"
      },
      "execution_count": 480,
      "outputs": [
        {
          "output_type": "execute_result",
          "data": {
            "text/plain": [
              "  headquarter_location    0\n",
              "0         sanfrancisco  136\n",
              "1              newyork   77\n",
              "2                   ca   51\n",
              "3              seattle   21\n",
              "4           losangeles   20\n",
              "5               boston   16\n",
              "6              chicago   12\n",
              "7                   ma    6\n",
              "8                   tx    6\n",
              "9             sandiego    5"
            ],
            "text/html": [
              "\n",
              "  <div id=\"df-0ed9e585-1277-4d16-83b3-c6a27c58f6ba\">\n",
              "    <div class=\"colab-df-container\">\n",
              "      <div>\n",
              "<style scoped>\n",
              "    .dataframe tbody tr th:only-of-type {\n",
              "        vertical-align: middle;\n",
              "    }\n",
              "\n",
              "    .dataframe tbody tr th {\n",
              "        vertical-align: top;\n",
              "    }\n",
              "\n",
              "    .dataframe thead th {\n",
              "        text-align: right;\n",
              "    }\n",
              "</style>\n",
              "<table border=\"1\" class=\"dataframe\">\n",
              "  <thead>\n",
              "    <tr style=\"text-align: right;\">\n",
              "      <th></th>\n",
              "      <th>headquarter_location</th>\n",
              "      <th>0</th>\n",
              "    </tr>\n",
              "  </thead>\n",
              "  <tbody>\n",
              "    <tr>\n",
              "      <th>0</th>\n",
              "      <td>sanfrancisco</td>\n",
              "      <td>136</td>\n",
              "    </tr>\n",
              "    <tr>\n",
              "      <th>1</th>\n",
              "      <td>newyork</td>\n",
              "      <td>77</td>\n",
              "    </tr>\n",
              "    <tr>\n",
              "      <th>2</th>\n",
              "      <td>ca</td>\n",
              "      <td>51</td>\n",
              "    </tr>\n",
              "    <tr>\n",
              "      <th>3</th>\n",
              "      <td>seattle</td>\n",
              "      <td>21</td>\n",
              "    </tr>\n",
              "    <tr>\n",
              "      <th>4</th>\n",
              "      <td>losangeles</td>\n",
              "      <td>20</td>\n",
              "    </tr>\n",
              "    <tr>\n",
              "      <th>5</th>\n",
              "      <td>boston</td>\n",
              "      <td>16</td>\n",
              "    </tr>\n",
              "    <tr>\n",
              "      <th>6</th>\n",
              "      <td>chicago</td>\n",
              "      <td>12</td>\n",
              "    </tr>\n",
              "    <tr>\n",
              "      <th>7</th>\n",
              "      <td>ma</td>\n",
              "      <td>6</td>\n",
              "    </tr>\n",
              "    <tr>\n",
              "      <th>8</th>\n",
              "      <td>tx</td>\n",
              "      <td>6</td>\n",
              "    </tr>\n",
              "    <tr>\n",
              "      <th>9</th>\n",
              "      <td>sandiego</td>\n",
              "      <td>5</td>\n",
              "    </tr>\n",
              "  </tbody>\n",
              "</table>\n",
              "</div>\n",
              "      <button class=\"colab-df-convert\" onclick=\"convertToInteractive('df-0ed9e585-1277-4d16-83b3-c6a27c58f6ba')\"\n",
              "              title=\"Convert this dataframe to an interactive table.\"\n",
              "              style=\"display:none;\">\n",
              "        \n",
              "  <svg xmlns=\"http://www.w3.org/2000/svg\" height=\"24px\"viewBox=\"0 0 24 24\"\n",
              "       width=\"24px\">\n",
              "    <path d=\"M0 0h24v24H0V0z\" fill=\"none\"/>\n",
              "    <path d=\"M18.56 5.44l.94 2.06.94-2.06 2.06-.94-2.06-.94-.94-2.06-.94 2.06-2.06.94zm-11 1L8.5 8.5l.94-2.06 2.06-.94-2.06-.94L8.5 2.5l-.94 2.06-2.06.94zm10 10l.94 2.06.94-2.06 2.06-.94-2.06-.94-.94-2.06-.94 2.06-2.06.94z\"/><path d=\"M17.41 7.96l-1.37-1.37c-.4-.4-.92-.59-1.43-.59-.52 0-1.04.2-1.43.59L10.3 9.45l-7.72 7.72c-.78.78-.78 2.05 0 2.83L4 21.41c.39.39.9.59 1.41.59.51 0 1.02-.2 1.41-.59l7.78-7.78 2.81-2.81c.8-.78.8-2.07 0-2.86zM5.41 20L4 18.59l7.72-7.72 1.47 1.35L5.41 20z\"/>\n",
              "  </svg>\n",
              "      </button>\n",
              "      \n",
              "  <style>\n",
              "    .colab-df-container {\n",
              "      display:flex;\n",
              "      flex-wrap:wrap;\n",
              "      gap: 12px;\n",
              "    }\n",
              "\n",
              "    .colab-df-convert {\n",
              "      background-color: #E8F0FE;\n",
              "      border: none;\n",
              "      border-radius: 50%;\n",
              "      cursor: pointer;\n",
              "      display: none;\n",
              "      fill: #1967D2;\n",
              "      height: 32px;\n",
              "      padding: 0 0 0 0;\n",
              "      width: 32px;\n",
              "    }\n",
              "\n",
              "    .colab-df-convert:hover {\n",
              "      background-color: #E2EBFA;\n",
              "      box-shadow: 0px 1px 2px rgba(60, 64, 67, 0.3), 0px 1px 3px 1px rgba(60, 64, 67, 0.15);\n",
              "      fill: #174EA6;\n",
              "    }\n",
              "\n",
              "    [theme=dark] .colab-df-convert {\n",
              "      background-color: #3B4455;\n",
              "      fill: #D2E3FC;\n",
              "    }\n",
              "\n",
              "    [theme=dark] .colab-df-convert:hover {\n",
              "      background-color: #434B5C;\n",
              "      box-shadow: 0px 1px 3px 1px rgba(0, 0, 0, 0.15);\n",
              "      filter: drop-shadow(0px 1px 2px rgba(0, 0, 0, 0.3));\n",
              "      fill: #FFFFFF;\n",
              "    }\n",
              "  </style>\n",
              "\n",
              "      <script>\n",
              "        const buttonEl =\n",
              "          document.querySelector('#df-0ed9e585-1277-4d16-83b3-c6a27c58f6ba button.colab-df-convert');\n",
              "        buttonEl.style.display =\n",
              "          google.colab.kernel.accessAllowed ? 'block' : 'none';\n",
              "\n",
              "        async function convertToInteractive(key) {\n",
              "          const element = document.querySelector('#df-0ed9e585-1277-4d16-83b3-c6a27c58f6ba');\n",
              "          const dataTable =\n",
              "            await google.colab.kernel.invokeFunction('convertToInteractive',\n",
              "                                                     [key], {});\n",
              "          if (!dataTable) return;\n",
              "\n",
              "          const docLinkHtml = 'Like what you see? Visit the ' +\n",
              "            '<a target=\"_blank\" href=https://colab.research.google.com/notebooks/data_table.ipynb>data table notebook</a>'\n",
              "            + ' to learn more about interactive tables.';\n",
              "          element.innerHTML = '';\n",
              "          dataTable['output_type'] = 'display_data';\n",
              "          await google.colab.output.renderOutput(dataTable, element);\n",
              "          const docLink = document.createElement('div');\n",
              "          docLink.innerHTML = docLinkHtml;\n",
              "          element.appendChild(docLink);\n",
              "        }\n",
              "      </script>\n",
              "    </div>\n",
              "  </div>\n",
              "  "
            ]
          },
          "metadata": {},
          "execution_count": 480
        }
      ]
    },
    {
      "cell_type": "code",
      "source": [
        "plt.figure(figsize=(25,10))\n",
        "l=sns.barplot(y='headquarter_location',x=0, data=top10_hq)\n",
        "\n",
        "#add number of layoff on each bar\n",
        "for container in l.containers:\n",
        "  l.bar_label(container)\n",
        "\n",
        "plt.ylabel('Location')\n",
        "plt.xlabel('Layoff')\n",
        "plt.title('Total 10 Layoff by Headquarter Location')\n",
        "plt.show()"
      ],
      "metadata": {
        "colab": {
          "base_uri": "https://localhost:8080/",
          "height": 330
        },
        "id": "PqX-ZdUy7YmR",
        "outputId": "043796a9-0c46-4301-d55e-2c017839f51e"
      },
      "execution_count": 481,
      "outputs": [
        {
          "output_type": "display_data",
          "data": {
            "text/plain": [
              "<Figure size 1800x720 with 1 Axes>"
            ],
            "image/png": "[encoded data removed]"
          },
          "metadata": {
            "needs_background": "light"
          }
        }
      ]
    },
    {
      "cell_type": "code",
      "source": [
        "plt.subplots(figsize=(25,10))\n",
        "l=sns.countplot(y='status', data=data)\n",
        "\n",
        "for container in l.containers:\n",
        "  l.bar_label(container, padding=-50)\n",
        "\n",
        "plt.title('Private vs Public Layoffs')\n",
        "plt.xlabel('Number of Layoffs')\n",
        "plt.ylabel('')\n",
        "plt.show()"
      ],
      "metadata": {
        "colab": {
          "base_uri": "https://localhost:8080/",
          "height": 348
        },
        "id": "np2AeXhh7tT2",
        "outputId": "095a3d44-46ca-4f56-94eb-21cd3b0e32d0"
      },
      "execution_count": 488,
      "outputs": [
        {
          "output_type": "display_data",
          "data": {
            "text/plain": [
              "<Figure size 1800x720 with 1 Axes>"
            ],
            "image/png": "[encoded data removed]"
          },
          "metadata": {
            "needs_background": "light"
          }
        }
      ]
    },
    {
      "cell_type": "code",
      "source": [
        "plt.subplots(figsize=(25,10))\n",
        "l=sns.countplot(y='Year', data=data)\n",
        "\n",
        "for container in l.containers:\n",
        "  l.bar_label(container, padding=-50)\n",
        "\n",
        "plt.title('Layoffs in 2022 and 2023')\n",
        "plt.xlabel('Number of Layoffs')\n",
        "plt.ylabel('')\n",
        "plt.show()"
      ],
      "metadata": {
        "colab": {
          "base_uri": "https://localhost:8080/",
          "height": 353
        },
        "id": "kJj7Grli8h8P",
        "outputId": "4ba6c8ea-539f-420a-f73d-e9906ea068dd"
      },
      "execution_count": 489,
      "outputs": [
        {
          "output_type": "display_data",
          "data": {
            "text/plain": [
              "<Figure size 1800x720 with 1 Axes>"
            ],
            "image/png": "[encoded data removed]"
          },
          "metadata": {
            "needs_background": "light"
          }
        }
      ]
    },
    {
      "cell_type": "code",
      "source": [
        "import calendar\n",
        "\n",
        "plt.figure(figsize=(20,10))\n",
        "\n",
        "# group the data by month and player and calculate the total feature\n",
        "gg = data.groupby([\"Month\"])[\"total_layoffs\"].count()\n",
        "gg = gg.reset_index()\n",
        "\n",
        "#create a line chart using Seaborn\n",
        "sns.lineplot(x=\"Month\", y=\"total_layoffs\", data=gg)\n",
        "\n",
        "# add a title and axis labels\n",
        "plt.title(\"Layoffs Trends\")\n",
        "plt.xlabel(\"Month\")\n",
        "plt.ylabel(\"Layoffs\")\n",
        "\n",
        "# set the x-tick labels as the names of the months\n",
        "plt.xticks(range(1,13), [calendar.month_name[i] for i in range(1,13)], rotation=20)\n",
        "\n",
        "# show the plot\n",
        "plt.show()"
      ],
      "metadata": {
        "colab": {
          "base_uri": "https://localhost:8080/",
          "height": 457
        },
        "id": "6M30Wd_l8twW",
        "outputId": "6331aec3-4b93-43f9-e523-785274e43644"
      },
      "execution_count": 490,
      "outputs": [
        {
          "output_type": "display_data",
          "data": {
            "text/plain": [
              "<Figure size 1440x720 with 1 Axes>"
            ],
            "image/png": "[encoded data removed]"
          },
          "metadata": {
            "needs_background": "light"
          }
        }
      ]
    }
  ]
}